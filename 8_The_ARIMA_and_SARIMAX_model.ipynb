{
  "nbformat": 4,
  "nbformat_minor": 0,
  "metadata": {
    "colab": {
      "provenance": [],
      "mount_file_id": "1eu9hpQ-0uUCncpxcYNSdqzJEpi9pS6iE",
      "authorship_tag": "ABX9TyPezUnkPsUPVtGVJN63x3Cj",
      "include_colab_link": true
    },
    "kernelspec": {
      "name": "python3",
      "display_name": "Python 3"
    },
    "language_info": {
      "name": "python"
    }
  },
  "cells": [
    {
      "cell_type": "markdown",
      "metadata": {
        "id": "view-in-github",
        "colab_type": "text"
      },
      "source": [
        "<a href=\"https://colab.research.google.com/github/Susanarias/TAREA2/blob/main/8_The_ARIMA_and_SARIMAX_model.ipynb\" target=\"_parent\"><img src=\"https://colab.research.google.com/assets/colab-badge.svg\" alt=\"Open In Colab\"/></a>"
      ]
    },
    {
      "cell_type": "code",
      "execution_count": null,
      "metadata": {
        "id": "k8jucQx-BQPD"
      },
      "outputs": [],
      "source": [
        "import pandas as pd\n",
        "import numpy as np\n",
        "import matplotlib.pyplot as plt\n",
        "import statsmodels.graphics.tsaplots as sgt\n",
        "import statsmodels.tsa.stattools as sts\n",
        "from statsmodels.tsa.arima.model import ARIMA\n",
        "from scipy.stats.distributions import chi2\n",
        "import seaborn as sns\n",
        "sns.set()"
      ]
    },
    {
      "cell_type": "code",
      "source": [
        "raw_csv_data = pd.read_csv(\"/content/drive/MyDrive/Colab Notebooks/Index_modified.csv\")\n",
        "df_comp=raw_csv_data.copy()\n",
        "df_comp.date = pd.to_datetime(df_comp.date, dayfirst = True)\n",
        "df_comp.set_index(\"date\", inplace=True)\n",
        "'''df_comp=df_comp.asfreq('b')\n",
        "df_comp=df_comp.fillna(method='ffill')'''"
      ],
      "metadata": {
        "colab": {
          "base_uri": "https://localhost:8080/",
          "height": 35
        },
        "id": "LSyqJmOzBXEd",
        "outputId": "f7a9c65e-62c7-4ef6-c3e7-f47a528f944e"
      },
      "execution_count": null,
      "outputs": [
        {
          "output_type": "execute_result",
          "data": {
            "text/plain": [
              "\"df_comp=df_comp.asfreq('b')\\ndf_comp=df_comp.fillna(method='ffill')\""
            ],
            "application/vnd.google.colaboratory.intrinsic+json": {
              "type": "string"
            }
          },
          "metadata": {},
          "execution_count": 4
        }
      ]
    },
    {
      "cell_type": "code",
      "source": [
        "df_comp['market_value']=df_comp.ftse"
      ],
      "metadata": {
        "id": "EkM82qGuBZNy"
      },
      "execution_count": null,
      "outputs": []
    },
    {
      "cell_type": "code",
      "source": [
        "size = int(len(df_comp)*0.8)\n",
        "df, df_test = df_comp.iloc[:size], df_comp.iloc[size:]"
      ],
      "metadata": {
        "id": "PJIkZCUPBviN"
      },
      "execution_count": null,
      "outputs": []
    },
    {
      "cell_type": "code",
      "source": [
        "import warnings\n",
        "warnings.filterwarnings(\"ignore\")"
      ],
      "metadata": {
        "id": "vMbaSkSWByiZ"
      },
      "execution_count": null,
      "outputs": []
    },
    {
      "cell_type": "markdown",
      "source": [
        "The LLR Test"
      ],
      "metadata": {
        "id": "2BceDstNB0I3"
      }
    },
    {
      "cell_type": "code",
      "source": [
        "def LLR_test(mod_1, mod_2, DF = 1):\n",
        "    L1 = mod_1.fit().llf\n",
        "    L2 = mod_2.fit().llf\n",
        "    LR = (2*(L2-L1))\n",
        "    p = chi2.sf(LR, DF).round(3)\n",
        "    return p"
      ],
      "metadata": {
        "id": "u4BhVR_KB0yw"
      },
      "execution_count": null,
      "outputs": []
    },
    {
      "cell_type": "markdown",
      "source": [
        "Creating Returns"
      ],
      "metadata": {
        "id": "ukh0NjqGB6FS"
      }
    },
    {
      "cell_type": "code",
      "source": [
        "df['returns'] = df.market_value.pct_change(1)*100"
      ],
      "metadata": {
        "id": "a1eUddlfB6uQ"
      },
      "execution_count": null,
      "outputs": []
    },
    {
      "cell_type": "markdown",
      "source": [
        "ARMA(1,1)"
      ],
      "metadata": {
        "id": "9O-_YXdUB87y"
      }
    },
    {
      "cell_type": "code",
      "source": [
        "model_ret_ar_1_ma_1 = ARIMA(df.returns[1:], order=(1,0,1))\n",
        "results_ret_ar_1_ma_1 = model_ret_ar_1_ma_1.fit()\n",
        "results_ret_ar_1_ma_1.summary()"
      ],
      "metadata": {
        "colab": {
          "base_uri": "https://localhost:8080/",
          "height": 452
        },
        "id": "gPQi19_vB-CL",
        "outputId": "6ef2cd5f-f8ef-4ede-8ac9-190c15b5cdf0"
      },
      "execution_count": null,
      "outputs": [
        {
          "output_type": "execute_result",
          "data": {
            "text/plain": [
              "<class 'statsmodels.iolib.summary.Summary'>\n",
              "\"\"\"\n",
              "                               SARIMAX Results                                \n",
              "==============================================================================\n",
              "Dep. Variable:                returns   No. Observations:                 6200\n",
              "Model:                 ARIMA(1, 0, 1)   Log Likelihood               -9497.517\n",
              "Date:                Sun, 15 Oct 2023   AIC                          19003.034\n",
              "Time:                        01:51:36   BIC                          19029.963\n",
              "Sample:                             0   HQIC                         19012.370\n",
              "                               - 6200                                         \n",
              "Covariance Type:                  opg                                         \n",
              "==============================================================================\n",
              "                 coef    std err          z      P>|z|      [0.025      0.975]\n",
              "------------------------------------------------------------------------------\n",
              "const          0.0189      0.012      1.525      0.127      -0.005       0.043\n",
              "ar.L1          0.8192      0.033     24.541      0.000       0.754       0.885\n",
              "ma.L1         -0.8607      0.030    -29.054      0.000      -0.919      -0.803\n",
              "sigma2         1.2534      0.011    110.186      0.000       1.231       1.276\n",
              "===================================================================================\n",
              "Ljung-Box (L1) (Q):                   2.25   Jarque-Bera (JB):              9745.04\n",
              "Prob(Q):                              0.13   Prob(JB):                         0.00\n",
              "Heteroskedasticity (H):               0.87   Skew:                            -0.20\n",
              "Prob(H) (two-sided):                  0.00   Kurtosis:                         9.13\n",
              "===================================================================================\n",
              "\n",
              "Warnings:\n",
              "[1] Covariance matrix calculated using the outer product of gradients (complex-step).\n",
              "\"\"\""
            ],
            "text/html": [
              "<table class=\"simpletable\">\n",
              "<caption>SARIMAX Results</caption>\n",
              "<tr>\n",
              "  <th>Dep. Variable:</th>        <td>returns</td>     <th>  No. Observations:  </th>   <td>6200</td>   \n",
              "</tr>\n",
              "<tr>\n",
              "  <th>Model:</th>            <td>ARIMA(1, 0, 1)</td>  <th>  Log Likelihood     </th> <td>-9497.517</td>\n",
              "</tr>\n",
              "<tr>\n",
              "  <th>Date:</th>            <td>Sun, 15 Oct 2023</td> <th>  AIC                </th> <td>19003.034</td>\n",
              "</tr>\n",
              "<tr>\n",
              "  <th>Time:</th>                <td>01:51:36</td>     <th>  BIC                </th> <td>19029.963</td>\n",
              "</tr>\n",
              "<tr>\n",
              "  <th>Sample:</th>                  <td>0</td>        <th>  HQIC               </th> <td>19012.370</td>\n",
              "</tr>\n",
              "<tr>\n",
              "  <th></th>                      <td> - 6200</td>     <th>                     </th>     <td> </td>    \n",
              "</tr>\n",
              "<tr>\n",
              "  <th>Covariance Type:</th>        <td>opg</td>       <th>                     </th>     <td> </td>    \n",
              "</tr>\n",
              "</table>\n",
              "<table class=\"simpletable\">\n",
              "<tr>\n",
              "     <td></td>       <th>coef</th>     <th>std err</th>      <th>z</th>      <th>P>|z|</th>  <th>[0.025</th>    <th>0.975]</th>  \n",
              "</tr>\n",
              "<tr>\n",
              "  <th>const</th>  <td>    0.0189</td> <td>    0.012</td> <td>    1.525</td> <td> 0.127</td> <td>   -0.005</td> <td>    0.043</td>\n",
              "</tr>\n",
              "<tr>\n",
              "  <th>ar.L1</th>  <td>    0.8192</td> <td>    0.033</td> <td>   24.541</td> <td> 0.000</td> <td>    0.754</td> <td>    0.885</td>\n",
              "</tr>\n",
              "<tr>\n",
              "  <th>ma.L1</th>  <td>   -0.8607</td> <td>    0.030</td> <td>  -29.054</td> <td> 0.000</td> <td>   -0.919</td> <td>   -0.803</td>\n",
              "</tr>\n",
              "<tr>\n",
              "  <th>sigma2</th> <td>    1.2534</td> <td>    0.011</td> <td>  110.186</td> <td> 0.000</td> <td>    1.231</td> <td>    1.276</td>\n",
              "</tr>\n",
              "</table>\n",
              "<table class=\"simpletable\">\n",
              "<tr>\n",
              "  <th>Ljung-Box (L1) (Q):</th>     <td>2.25</td> <th>  Jarque-Bera (JB):  </th> <td>9745.04</td>\n",
              "</tr>\n",
              "<tr>\n",
              "  <th>Prob(Q):</th>                <td>0.13</td> <th>  Prob(JB):          </th>  <td>0.00</td>  \n",
              "</tr>\n",
              "<tr>\n",
              "  <th>Heteroskedasticity (H):</th> <td>0.87</td> <th>  Skew:              </th>  <td>-0.20</td> \n",
              "</tr>\n",
              "<tr>\n",
              "  <th>Prob(H) (two-sided):</th>    <td>0.00</td> <th>  Kurtosis:          </th>  <td>9.13</td>  \n",
              "</tr>\n",
              "</table><br/><br/>Warnings:<br/>[1] Covariance matrix calculated using the outer product of gradients (complex-step)."
            ],
            "text/latex": "\\begin{center}\n\\begin{tabular}{lclc}\n\\toprule\n\\textbf{Dep. Variable:}          &     returns      & \\textbf{  No. Observations:  } &    6200     \\\\\n\\textbf{Model:}                  &  ARIMA(1, 0, 1)  & \\textbf{  Log Likelihood     } & -9497.517   \\\\\n\\textbf{Date:}                   & Sun, 15 Oct 2023 & \\textbf{  AIC                } & 19003.034   \\\\\n\\textbf{Time:}                   &     01:51:36     & \\textbf{  BIC                } & 19029.963   \\\\\n\\textbf{Sample:}                 &        0         & \\textbf{  HQIC               } & 19012.370   \\\\\n\\textbf{}                        &      - 6200      & \\textbf{                     } &             \\\\\n\\textbf{Covariance Type:}        &       opg        & \\textbf{                     } &             \\\\\n\\bottomrule\n\\end{tabular}\n\\begin{tabular}{lcccccc}\n                & \\textbf{coef} & \\textbf{std err} & \\textbf{z} & \\textbf{P$> |$z$|$} & \\textbf{[0.025} & \\textbf{0.975]}  \\\\\n\\midrule\n\\textbf{const}  &       0.0189  &        0.012     &     1.525  &         0.127        &       -0.005    &        0.043     \\\\\n\\textbf{ar.L1}  &       0.8192  &        0.033     &    24.541  &         0.000        &        0.754    &        0.885     \\\\\n\\textbf{ma.L1}  &      -0.8607  &        0.030     &   -29.054  &         0.000        &       -0.919    &       -0.803     \\\\\n\\textbf{sigma2} &       1.2534  &        0.011     &   110.186  &         0.000        &        1.231    &        1.276     \\\\\n\\bottomrule\n\\end{tabular}\n\\begin{tabular}{lclc}\n\\textbf{Ljung-Box (L1) (Q):}     & 2.25 & \\textbf{  Jarque-Bera (JB):  } & 9745.04  \\\\\n\\textbf{Prob(Q):}                & 0.13 & \\textbf{  Prob(JB):          } &   0.00   \\\\\n\\textbf{Heteroskedasticity (H):} & 0.87 & \\textbf{  Skew:              } &  -0.20   \\\\\n\\textbf{Prob(H) (two-sided):}    & 0.00 & \\textbf{  Kurtosis:          } &   9.13   \\\\\n\\bottomrule\n\\end{tabular}\n%\\caption{SARIMAX Results}\n\\end{center}\n\nWarnings: \\newline\n [1] Covariance matrix calculated using the outer product of gradients (complex-step)."
          },
          "metadata": {},
          "execution_count": 11
        }
      ]
    },
    {
      "cell_type": "code",
      "source": [
        "model_ret_ar_1 = ARIMA(df.returns[1:], order = (1,0,0))\n",
        "model_ret_ma_1 = ARIMA(df.returns[1:], order = (0,0,1))"
      ],
      "metadata": {
        "id": "fWxfWNzXCCvs"
      },
      "execution_count": null,
      "outputs": []
    },
    {
      "cell_type": "code",
      "source": [
        "print(\"\\nARMA vs AR \", LLR_test(model_ret_ar_1, model_ret_ar_1_ma_1))\n",
        "print(\"\\nARMA vs MA \", LLR_test(model_ret_ma_1, model_ret_ar_1_ma_1))\n"
      ],
      "metadata": {
        "colab": {
          "base_uri": "https://localhost:8080/"
        },
        "id": "ZdXtySJQCEGr",
        "outputId": "4cfafb57-f0b3-4cf6-9fb1-ce4cc18f7d90"
      },
      "execution_count": null,
      "outputs": [
        {
          "output_type": "stream",
          "name": "stdout",
          "text": [
            "\n",
            "ARMA vs AR  0.0\n",
            "\n",
            "ARMA vs MA  0.0\n"
          ]
        }
      ]
    },
    {
      "cell_type": "markdown",
      "source": [
        "Higher-Lag ARMA Models"
      ],
      "metadata": {
        "id": "p990AJNXCJgE"
      }
    },
    {
      "cell_type": "code",
      "source": [
        "\n",
        "model_ret_ar_3_ma_3 = ARIMA(df.returns[1:], order=(3,0,3))\n",
        "results_ret_ar_3_ma_3 = model_ret_ar_3_ma_3.fit()"
      ],
      "metadata": {
        "id": "rJ7huiz9CKZB"
      },
      "execution_count": null,
      "outputs": []
    },
    {
      "cell_type": "code",
      "source": [
        "LLR_test(model_ret_ar_1_ma_1, model_ret_ar_3_ma_3, DF = 4)"
      ],
      "metadata": {
        "colab": {
          "base_uri": "https://localhost:8080/"
        },
        "id": "jc_MI_IaCMnV",
        "outputId": "51d3ea6f-0686-41d1-d5b5-f4b9adc24188"
      },
      "execution_count": null,
      "outputs": [
        {
          "output_type": "execute_result",
          "data": {
            "text/plain": [
              "0.0"
            ]
          },
          "metadata": {},
          "execution_count": 15
        }
      ]
    },
    {
      "cell_type": "code",
      "source": [
        "results_ret_ar_3_ma_3.summary()"
      ],
      "metadata": {
        "colab": {
          "base_uri": "https://localhost:8080/",
          "height": 537
        },
        "id": "9rHxUk8zCOBT",
        "outputId": "593c293f-4b79-4d7b-d0c2-63201a364650"
      },
      "execution_count": null,
      "outputs": [
        {
          "output_type": "execute_result",
          "data": {
            "text/plain": [
              "<class 'statsmodels.iolib.summary.Summary'>\n",
              "\"\"\"\n",
              "                               SARIMAX Results                                \n",
              "==============================================================================\n",
              "Dep. Variable:                returns   No. Observations:                 6200\n",
              "Model:                 ARIMA(3, 0, 3)   Log Likelihood               -9480.133\n",
              "Date:                Sun, 15 Oct 2023   AIC                          18976.267\n",
              "Time:                        01:53:55   BIC                          19030.125\n",
              "Sample:                             0   HQIC                         18994.939\n",
              "                               - 6200                                         \n",
              "Covariance Type:                  opg                                         \n",
              "==============================================================================\n",
              "                 coef    std err          z      P>|z|      [0.025      0.975]\n",
              "------------------------------------------------------------------------------\n",
              "const          0.0189      0.013      1.495      0.135      -0.006       0.044\n",
              "ar.L1         -0.1362      0.070     -1.949      0.051      -0.273       0.001\n",
              "ar.L2         -0.1877      0.056     -3.346      0.001      -0.298      -0.078\n",
              "ar.L3          0.5026      0.060      8.401      0.000       0.385       0.620\n",
              "ma.L1          0.1217      0.066      1.831      0.067      -0.009       0.252\n",
              "ma.L2          0.1264      0.055      2.317      0.020       0.019       0.233\n",
              "ma.L3         -0.5803      0.056    -10.376      0.000      -0.690      -0.471\n",
              "sigma2         1.2464      0.012    104.079      0.000       1.223       1.270\n",
              "===================================================================================\n",
              "Ljung-Box (L1) (Q):                   0.19   Jarque-Bera (JB):              8987.76\n",
              "Prob(Q):                              0.66   Prob(JB):                         0.00\n",
              "Heteroskedasticity (H):               0.88   Skew:                            -0.18\n",
              "Prob(H) (two-sided):                  0.00   Kurtosis:                         8.89\n",
              "===================================================================================\n",
              "\n",
              "Warnings:\n",
              "[1] Covariance matrix calculated using the outer product of gradients (complex-step).\n",
              "\"\"\""
            ],
            "text/html": [
              "<table class=\"simpletable\">\n",
              "<caption>SARIMAX Results</caption>\n",
              "<tr>\n",
              "  <th>Dep. Variable:</th>        <td>returns</td>     <th>  No. Observations:  </th>   <td>6200</td>   \n",
              "</tr>\n",
              "<tr>\n",
              "  <th>Model:</th>            <td>ARIMA(3, 0, 3)</td>  <th>  Log Likelihood     </th> <td>-9480.133</td>\n",
              "</tr>\n",
              "<tr>\n",
              "  <th>Date:</th>            <td>Sun, 15 Oct 2023</td> <th>  AIC                </th> <td>18976.267</td>\n",
              "</tr>\n",
              "<tr>\n",
              "  <th>Time:</th>                <td>01:53:55</td>     <th>  BIC                </th> <td>19030.125</td>\n",
              "</tr>\n",
              "<tr>\n",
              "  <th>Sample:</th>                  <td>0</td>        <th>  HQIC               </th> <td>18994.939</td>\n",
              "</tr>\n",
              "<tr>\n",
              "  <th></th>                      <td> - 6200</td>     <th>                     </th>     <td> </td>    \n",
              "</tr>\n",
              "<tr>\n",
              "  <th>Covariance Type:</th>        <td>opg</td>       <th>                     </th>     <td> </td>    \n",
              "</tr>\n",
              "</table>\n",
              "<table class=\"simpletable\">\n",
              "<tr>\n",
              "     <td></td>       <th>coef</th>     <th>std err</th>      <th>z</th>      <th>P>|z|</th>  <th>[0.025</th>    <th>0.975]</th>  \n",
              "</tr>\n",
              "<tr>\n",
              "  <th>const</th>  <td>    0.0189</td> <td>    0.013</td> <td>    1.495</td> <td> 0.135</td> <td>   -0.006</td> <td>    0.044</td>\n",
              "</tr>\n",
              "<tr>\n",
              "  <th>ar.L1</th>  <td>   -0.1362</td> <td>    0.070</td> <td>   -1.949</td> <td> 0.051</td> <td>   -0.273</td> <td>    0.001</td>\n",
              "</tr>\n",
              "<tr>\n",
              "  <th>ar.L2</th>  <td>   -0.1877</td> <td>    0.056</td> <td>   -3.346</td> <td> 0.001</td> <td>   -0.298</td> <td>   -0.078</td>\n",
              "</tr>\n",
              "<tr>\n",
              "  <th>ar.L3</th>  <td>    0.5026</td> <td>    0.060</td> <td>    8.401</td> <td> 0.000</td> <td>    0.385</td> <td>    0.620</td>\n",
              "</tr>\n",
              "<tr>\n",
              "  <th>ma.L1</th>  <td>    0.1217</td> <td>    0.066</td> <td>    1.831</td> <td> 0.067</td> <td>   -0.009</td> <td>    0.252</td>\n",
              "</tr>\n",
              "<tr>\n",
              "  <th>ma.L2</th>  <td>    0.1264</td> <td>    0.055</td> <td>    2.317</td> <td> 0.020</td> <td>    0.019</td> <td>    0.233</td>\n",
              "</tr>\n",
              "<tr>\n",
              "  <th>ma.L3</th>  <td>   -0.5803</td> <td>    0.056</td> <td>  -10.376</td> <td> 0.000</td> <td>   -0.690</td> <td>   -0.471</td>\n",
              "</tr>\n",
              "<tr>\n",
              "  <th>sigma2</th> <td>    1.2464</td> <td>    0.012</td> <td>  104.079</td> <td> 0.000</td> <td>    1.223</td> <td>    1.270</td>\n",
              "</tr>\n",
              "</table>\n",
              "<table class=\"simpletable\">\n",
              "<tr>\n",
              "  <th>Ljung-Box (L1) (Q):</th>     <td>0.19</td> <th>  Jarque-Bera (JB):  </th> <td>8987.76</td>\n",
              "</tr>\n",
              "<tr>\n",
              "  <th>Prob(Q):</th>                <td>0.66</td> <th>  Prob(JB):          </th>  <td>0.00</td>  \n",
              "</tr>\n",
              "<tr>\n",
              "  <th>Heteroskedasticity (H):</th> <td>0.88</td> <th>  Skew:              </th>  <td>-0.18</td> \n",
              "</tr>\n",
              "<tr>\n",
              "  <th>Prob(H) (two-sided):</th>    <td>0.00</td> <th>  Kurtosis:          </th>  <td>8.89</td>  \n",
              "</tr>\n",
              "</table><br/><br/>Warnings:<br/>[1] Covariance matrix calculated using the outer product of gradients (complex-step)."
            ],
            "text/latex": "\\begin{center}\n\\begin{tabular}{lclc}\n\\toprule\n\\textbf{Dep. Variable:}          &     returns      & \\textbf{  No. Observations:  } &    6200     \\\\\n\\textbf{Model:}                  &  ARIMA(3, 0, 3)  & \\textbf{  Log Likelihood     } & -9480.133   \\\\\n\\textbf{Date:}                   & Sun, 15 Oct 2023 & \\textbf{  AIC                } & 18976.267   \\\\\n\\textbf{Time:}                   &     01:53:55     & \\textbf{  BIC                } & 19030.125   \\\\\n\\textbf{Sample:}                 &        0         & \\textbf{  HQIC               } & 18994.939   \\\\\n\\textbf{}                        &      - 6200      & \\textbf{                     } &             \\\\\n\\textbf{Covariance Type:}        &       opg        & \\textbf{                     } &             \\\\\n\\bottomrule\n\\end{tabular}\n\\begin{tabular}{lcccccc}\n                & \\textbf{coef} & \\textbf{std err} & \\textbf{z} & \\textbf{P$> |$z$|$} & \\textbf{[0.025} & \\textbf{0.975]}  \\\\\n\\midrule\n\\textbf{const}  &       0.0189  &        0.013     &     1.495  &         0.135        &       -0.006    &        0.044     \\\\\n\\textbf{ar.L1}  &      -0.1362  &        0.070     &    -1.949  &         0.051        &       -0.273    &        0.001     \\\\\n\\textbf{ar.L2}  &      -0.1877  &        0.056     &    -3.346  &         0.001        &       -0.298    &       -0.078     \\\\\n\\textbf{ar.L3}  &       0.5026  &        0.060     &     8.401  &         0.000        &        0.385    &        0.620     \\\\\n\\textbf{ma.L1}  &       0.1217  &        0.066     &     1.831  &         0.067        &       -0.009    &        0.252     \\\\\n\\textbf{ma.L2}  &       0.1264  &        0.055     &     2.317  &         0.020        &        0.019    &        0.233     \\\\\n\\textbf{ma.L3}  &      -0.5803  &        0.056     &   -10.376  &         0.000        &       -0.690    &       -0.471     \\\\\n\\textbf{sigma2} &       1.2464  &        0.012     &   104.079  &         0.000        &        1.223    &        1.270     \\\\\n\\bottomrule\n\\end{tabular}\n\\begin{tabular}{lclc}\n\\textbf{Ljung-Box (L1) (Q):}     & 0.19 & \\textbf{  Jarque-Bera (JB):  } & 8987.76  \\\\\n\\textbf{Prob(Q):}                & 0.66 & \\textbf{  Prob(JB):          } &   0.00   \\\\\n\\textbf{Heteroskedasticity (H):} & 0.88 & \\textbf{  Skew:              } &  -0.18   \\\\\n\\textbf{Prob(H) (two-sided):}    & 0.00 & \\textbf{  Kurtosis:          } &   8.89   \\\\\n\\bottomrule\n\\end{tabular}\n%\\caption{SARIMAX Results}\n\\end{center}\n\nWarnings: \\newline\n [1] Covariance matrix calculated using the outer product of gradients (complex-step)."
          },
          "metadata": {},
          "execution_count": 16
        }
      ]
    },
    {
      "cell_type": "code",
      "source": [
        "model_ret_ar_3_ma_2 = ARIMA(df.returns[1:], order=(3,0,2))\n",
        "results_ret_ar_3_ma_2 = model_ret_ar_3_ma_2.fit()\n",
        "results_ret_ar_3_ma_2.summary()"
      ],
      "metadata": {
        "colab": {
          "base_uri": "https://localhost:8080/",
          "height": 516
        },
        "id": "Yvf7JDa6CROE",
        "outputId": "27793985-0076-4580-986d-b5b9ba4692da"
      },
      "execution_count": null,
      "outputs": [
        {
          "output_type": "execute_result",
          "data": {
            "text/plain": [
              "<class 'statsmodels.iolib.summary.Summary'>\n",
              "\"\"\"\n",
              "                               SARIMAX Results                                \n",
              "==============================================================================\n",
              "Dep. Variable:                returns   No. Observations:                 6200\n",
              "Model:                 ARIMA(3, 0, 2)   Log Likelihood               -9486.766\n",
              "Date:                Sun, 15 Oct 2023   AIC                          18987.533\n",
              "Time:                        01:54:14   BIC                          19034.659\n",
              "Sample:                             0   HQIC                         19003.871\n",
              "                               - 6200                                         \n",
              "Covariance Type:                  opg                                         \n",
              "==============================================================================\n",
              "                 coef    std err          z      P>|z|      [0.025      0.975]\n",
              "------------------------------------------------------------------------------\n",
              "const          0.0189      0.013      1.457      0.145      -0.007       0.044\n",
              "ar.L1         -0.2462      0.078     -3.164      0.002      -0.399      -0.094\n",
              "ar.L2          0.2346      0.080      2.926      0.003       0.077       0.392\n",
              "ar.L3         -0.0811      0.008    -10.248      0.000      -0.097      -0.066\n",
              "ma.L1          0.2257      0.078      2.886      0.004       0.072       0.379\n",
              "ma.L2         -0.2862      0.080     -3.578      0.000      -0.443      -0.129\n",
              "sigma2         1.2490      0.012    104.776      0.000       1.226       1.272\n",
              "===================================================================================\n",
              "Ljung-Box (L1) (Q):                   0.01   Jarque-Bera (JB):              8772.99\n",
              "Prob(Q):                              0.92   Prob(JB):                         0.00\n",
              "Heteroskedasticity (H):               0.88   Skew:                            -0.16\n",
              "Prob(H) (two-sided):                  0.00   Kurtosis:                         8.82\n",
              "===================================================================================\n",
              "\n",
              "Warnings:\n",
              "[1] Covariance matrix calculated using the outer product of gradients (complex-step).\n",
              "\"\"\""
            ],
            "text/html": [
              "<table class=\"simpletable\">\n",
              "<caption>SARIMAX Results</caption>\n",
              "<tr>\n",
              "  <th>Dep. Variable:</th>        <td>returns</td>     <th>  No. Observations:  </th>   <td>6200</td>   \n",
              "</tr>\n",
              "<tr>\n",
              "  <th>Model:</th>            <td>ARIMA(3, 0, 2)</td>  <th>  Log Likelihood     </th> <td>-9486.766</td>\n",
              "</tr>\n",
              "<tr>\n",
              "  <th>Date:</th>            <td>Sun, 15 Oct 2023</td> <th>  AIC                </th> <td>18987.533</td>\n",
              "</tr>\n",
              "<tr>\n",
              "  <th>Time:</th>                <td>01:54:14</td>     <th>  BIC                </th> <td>19034.659</td>\n",
              "</tr>\n",
              "<tr>\n",
              "  <th>Sample:</th>                  <td>0</td>        <th>  HQIC               </th> <td>19003.871</td>\n",
              "</tr>\n",
              "<tr>\n",
              "  <th></th>                      <td> - 6200</td>     <th>                     </th>     <td> </td>    \n",
              "</tr>\n",
              "<tr>\n",
              "  <th>Covariance Type:</th>        <td>opg</td>       <th>                     </th>     <td> </td>    \n",
              "</tr>\n",
              "</table>\n",
              "<table class=\"simpletable\">\n",
              "<tr>\n",
              "     <td></td>       <th>coef</th>     <th>std err</th>      <th>z</th>      <th>P>|z|</th>  <th>[0.025</th>    <th>0.975]</th>  \n",
              "</tr>\n",
              "<tr>\n",
              "  <th>const</th>  <td>    0.0189</td> <td>    0.013</td> <td>    1.457</td> <td> 0.145</td> <td>   -0.007</td> <td>    0.044</td>\n",
              "</tr>\n",
              "<tr>\n",
              "  <th>ar.L1</th>  <td>   -0.2462</td> <td>    0.078</td> <td>   -3.164</td> <td> 0.002</td> <td>   -0.399</td> <td>   -0.094</td>\n",
              "</tr>\n",
              "<tr>\n",
              "  <th>ar.L2</th>  <td>    0.2346</td> <td>    0.080</td> <td>    2.926</td> <td> 0.003</td> <td>    0.077</td> <td>    0.392</td>\n",
              "</tr>\n",
              "<tr>\n",
              "  <th>ar.L3</th>  <td>   -0.0811</td> <td>    0.008</td> <td>  -10.248</td> <td> 0.000</td> <td>   -0.097</td> <td>   -0.066</td>\n",
              "</tr>\n",
              "<tr>\n",
              "  <th>ma.L1</th>  <td>    0.2257</td> <td>    0.078</td> <td>    2.886</td> <td> 0.004</td> <td>    0.072</td> <td>    0.379</td>\n",
              "</tr>\n",
              "<tr>\n",
              "  <th>ma.L2</th>  <td>   -0.2862</td> <td>    0.080</td> <td>   -3.578</td> <td> 0.000</td> <td>   -0.443</td> <td>   -0.129</td>\n",
              "</tr>\n",
              "<tr>\n",
              "  <th>sigma2</th> <td>    1.2490</td> <td>    0.012</td> <td>  104.776</td> <td> 0.000</td> <td>    1.226</td> <td>    1.272</td>\n",
              "</tr>\n",
              "</table>\n",
              "<table class=\"simpletable\">\n",
              "<tr>\n",
              "  <th>Ljung-Box (L1) (Q):</th>     <td>0.01</td> <th>  Jarque-Bera (JB):  </th> <td>8772.99</td>\n",
              "</tr>\n",
              "<tr>\n",
              "  <th>Prob(Q):</th>                <td>0.92</td> <th>  Prob(JB):          </th>  <td>0.00</td>  \n",
              "</tr>\n",
              "<tr>\n",
              "  <th>Heteroskedasticity (H):</th> <td>0.88</td> <th>  Skew:              </th>  <td>-0.16</td> \n",
              "</tr>\n",
              "<tr>\n",
              "  <th>Prob(H) (two-sided):</th>    <td>0.00</td> <th>  Kurtosis:          </th>  <td>8.82</td>  \n",
              "</tr>\n",
              "</table><br/><br/>Warnings:<br/>[1] Covariance matrix calculated using the outer product of gradients (complex-step)."
            ],
            "text/latex": "\\begin{center}\n\\begin{tabular}{lclc}\n\\toprule\n\\textbf{Dep. Variable:}          &     returns      & \\textbf{  No. Observations:  } &    6200     \\\\\n\\textbf{Model:}                  &  ARIMA(3, 0, 2)  & \\textbf{  Log Likelihood     } & -9486.766   \\\\\n\\textbf{Date:}                   & Sun, 15 Oct 2023 & \\textbf{  AIC                } & 18987.533   \\\\\n\\textbf{Time:}                   &     01:54:14     & \\textbf{  BIC                } & 19034.659   \\\\\n\\textbf{Sample:}                 &        0         & \\textbf{  HQIC               } & 19003.871   \\\\\n\\textbf{}                        &      - 6200      & \\textbf{                     } &             \\\\\n\\textbf{Covariance Type:}        &       opg        & \\textbf{                     } &             \\\\\n\\bottomrule\n\\end{tabular}\n\\begin{tabular}{lcccccc}\n                & \\textbf{coef} & \\textbf{std err} & \\textbf{z} & \\textbf{P$> |$z$|$} & \\textbf{[0.025} & \\textbf{0.975]}  \\\\\n\\midrule\n\\textbf{const}  &       0.0189  &        0.013     &     1.457  &         0.145        &       -0.007    &        0.044     \\\\\n\\textbf{ar.L1}  &      -0.2462  &        0.078     &    -3.164  &         0.002        &       -0.399    &       -0.094     \\\\\n\\textbf{ar.L2}  &       0.2346  &        0.080     &     2.926  &         0.003        &        0.077    &        0.392     \\\\\n\\textbf{ar.L3}  &      -0.0811  &        0.008     &   -10.248  &         0.000        &       -0.097    &       -0.066     \\\\\n\\textbf{ma.L1}  &       0.2257  &        0.078     &     2.886  &         0.004        &        0.072    &        0.379     \\\\\n\\textbf{ma.L2}  &      -0.2862  &        0.080     &    -3.578  &         0.000        &       -0.443    &       -0.129     \\\\\n\\textbf{sigma2} &       1.2490  &        0.012     &   104.776  &         0.000        &        1.226    &        1.272     \\\\\n\\bottomrule\n\\end{tabular}\n\\begin{tabular}{lclc}\n\\textbf{Ljung-Box (L1) (Q):}     & 0.01 & \\textbf{  Jarque-Bera (JB):  } & 8772.99  \\\\\n\\textbf{Prob(Q):}                & 0.92 & \\textbf{  Prob(JB):          } &   0.00   \\\\\n\\textbf{Heteroskedasticity (H):} & 0.88 & \\textbf{  Skew:              } &  -0.16   \\\\\n\\textbf{Prob(H) (two-sided):}    & 0.00 & \\textbf{  Kurtosis:          } &   8.82   \\\\\n\\bottomrule\n\\end{tabular}\n%\\caption{SARIMAX Results}\n\\end{center}\n\nWarnings: \\newline\n [1] Covariance matrix calculated using the outer product of gradients (complex-step)."
          },
          "metadata": {},
          "execution_count": 17
        }
      ]
    },
    {
      "cell_type": "code",
      "source": [
        "model_ret_ar_2_ma_3 = ARIMA(df.returns[1:], order=(2,0,3))\n",
        "results_ret_ar_2_ma_3 = model_ret_ar_2_ma_3.fit()\n",
        "results_ret_ar_2_ma_3.summary()"
      ],
      "metadata": {
        "colab": {
          "base_uri": "https://localhost:8080/",
          "height": 516
        },
        "id": "rCMYIZvpCTQc",
        "outputId": "b86456c4-1119-4b41-9e88-cce24c7f1a17"
      },
      "execution_count": null,
      "outputs": [
        {
          "output_type": "execute_result",
          "data": {
            "text/plain": [
              "<class 'statsmodels.iolib.summary.Summary'>\n",
              "\"\"\"\n",
              "                               SARIMAX Results                                \n",
              "==============================================================================\n",
              "Dep. Variable:                returns   No. Observations:                 6200\n",
              "Model:                 ARIMA(2, 0, 3)   Log Likelihood               -9483.634\n",
              "Date:                Sun, 15 Oct 2023   AIC                          18981.269\n",
              "Time:                        01:54:35   BIC                          19028.395\n",
              "Sample:                             0   HQIC                         18997.607\n",
              "                               - 6200                                         \n",
              "Covariance Type:                  opg                                         \n",
              "==============================================================================\n",
              "                 coef    std err          z      P>|z|      [0.025      0.975]\n",
              "------------------------------------------------------------------------------\n",
              "const          0.0189      0.013      1.423      0.155      -0.007       0.045\n",
              "ar.L1         -0.5436      0.070     -7.715      0.000      -0.682      -0.405\n",
              "ar.L2         -0.1237      0.077     -1.599      0.110      -0.275       0.028\n",
              "ma.L1          0.5255      0.070      7.466      0.000       0.388       0.663\n",
              "ma.L2          0.0621      0.077      0.810      0.418      -0.088       0.212\n",
              "ma.L3         -0.1012      0.007    -13.525      0.000      -0.116      -0.087\n",
              "sigma2         1.2478      0.012    103.302      0.000       1.224       1.271\n",
              "===================================================================================\n",
              "Ljung-Box (L1) (Q):                   0.00   Jarque-Bera (JB):              8480.14\n",
              "Prob(Q):                              0.98   Prob(JB):                         0.00\n",
              "Heteroskedasticity (H):               0.88   Skew:                            -0.13\n",
              "Prob(H) (two-sided):                  0.01   Kurtosis:                         8.72\n",
              "===================================================================================\n",
              "\n",
              "Warnings:\n",
              "[1] Covariance matrix calculated using the outer product of gradients (complex-step).\n",
              "\"\"\""
            ],
            "text/html": [
              "<table class=\"simpletable\">\n",
              "<caption>SARIMAX Results</caption>\n",
              "<tr>\n",
              "  <th>Dep. Variable:</th>        <td>returns</td>     <th>  No. Observations:  </th>   <td>6200</td>   \n",
              "</tr>\n",
              "<tr>\n",
              "  <th>Model:</th>            <td>ARIMA(2, 0, 3)</td>  <th>  Log Likelihood     </th> <td>-9483.634</td>\n",
              "</tr>\n",
              "<tr>\n",
              "  <th>Date:</th>            <td>Sun, 15 Oct 2023</td> <th>  AIC                </th> <td>18981.269</td>\n",
              "</tr>\n",
              "<tr>\n",
              "  <th>Time:</th>                <td>01:54:35</td>     <th>  BIC                </th> <td>19028.395</td>\n",
              "</tr>\n",
              "<tr>\n",
              "  <th>Sample:</th>                  <td>0</td>        <th>  HQIC               </th> <td>18997.607</td>\n",
              "</tr>\n",
              "<tr>\n",
              "  <th></th>                      <td> - 6200</td>     <th>                     </th>     <td> </td>    \n",
              "</tr>\n",
              "<tr>\n",
              "  <th>Covariance Type:</th>        <td>opg</td>       <th>                     </th>     <td> </td>    \n",
              "</tr>\n",
              "</table>\n",
              "<table class=\"simpletable\">\n",
              "<tr>\n",
              "     <td></td>       <th>coef</th>     <th>std err</th>      <th>z</th>      <th>P>|z|</th>  <th>[0.025</th>    <th>0.975]</th>  \n",
              "</tr>\n",
              "<tr>\n",
              "  <th>const</th>  <td>    0.0189</td> <td>    0.013</td> <td>    1.423</td> <td> 0.155</td> <td>   -0.007</td> <td>    0.045</td>\n",
              "</tr>\n",
              "<tr>\n",
              "  <th>ar.L1</th>  <td>   -0.5436</td> <td>    0.070</td> <td>   -7.715</td> <td> 0.000</td> <td>   -0.682</td> <td>   -0.405</td>\n",
              "</tr>\n",
              "<tr>\n",
              "  <th>ar.L2</th>  <td>   -0.1237</td> <td>    0.077</td> <td>   -1.599</td> <td> 0.110</td> <td>   -0.275</td> <td>    0.028</td>\n",
              "</tr>\n",
              "<tr>\n",
              "  <th>ma.L1</th>  <td>    0.5255</td> <td>    0.070</td> <td>    7.466</td> <td> 0.000</td> <td>    0.388</td> <td>    0.663</td>\n",
              "</tr>\n",
              "<tr>\n",
              "  <th>ma.L2</th>  <td>    0.0621</td> <td>    0.077</td> <td>    0.810</td> <td> 0.418</td> <td>   -0.088</td> <td>    0.212</td>\n",
              "</tr>\n",
              "<tr>\n",
              "  <th>ma.L3</th>  <td>   -0.1012</td> <td>    0.007</td> <td>  -13.525</td> <td> 0.000</td> <td>   -0.116</td> <td>   -0.087</td>\n",
              "</tr>\n",
              "<tr>\n",
              "  <th>sigma2</th> <td>    1.2478</td> <td>    0.012</td> <td>  103.302</td> <td> 0.000</td> <td>    1.224</td> <td>    1.271</td>\n",
              "</tr>\n",
              "</table>\n",
              "<table class=\"simpletable\">\n",
              "<tr>\n",
              "  <th>Ljung-Box (L1) (Q):</th>     <td>0.00</td> <th>  Jarque-Bera (JB):  </th> <td>8480.14</td>\n",
              "</tr>\n",
              "<tr>\n",
              "  <th>Prob(Q):</th>                <td>0.98</td> <th>  Prob(JB):          </th>  <td>0.00</td>  \n",
              "</tr>\n",
              "<tr>\n",
              "  <th>Heteroskedasticity (H):</th> <td>0.88</td> <th>  Skew:              </th>  <td>-0.13</td> \n",
              "</tr>\n",
              "<tr>\n",
              "  <th>Prob(H) (two-sided):</th>    <td>0.01</td> <th>  Kurtosis:          </th>  <td>8.72</td>  \n",
              "</tr>\n",
              "</table><br/><br/>Warnings:<br/>[1] Covariance matrix calculated using the outer product of gradients (complex-step)."
            ],
            "text/latex": "\\begin{center}\n\\begin{tabular}{lclc}\n\\toprule\n\\textbf{Dep. Variable:}          &     returns      & \\textbf{  No. Observations:  } &    6200     \\\\\n\\textbf{Model:}                  &  ARIMA(2, 0, 3)  & \\textbf{  Log Likelihood     } & -9483.634   \\\\\n\\textbf{Date:}                   & Sun, 15 Oct 2023 & \\textbf{  AIC                } & 18981.269   \\\\\n\\textbf{Time:}                   &     01:54:35     & \\textbf{  BIC                } & 19028.395   \\\\\n\\textbf{Sample:}                 &        0         & \\textbf{  HQIC               } & 18997.607   \\\\\n\\textbf{}                        &      - 6200      & \\textbf{                     } &             \\\\\n\\textbf{Covariance Type:}        &       opg        & \\textbf{                     } &             \\\\\n\\bottomrule\n\\end{tabular}\n\\begin{tabular}{lcccccc}\n                & \\textbf{coef} & \\textbf{std err} & \\textbf{z} & \\textbf{P$> |$z$|$} & \\textbf{[0.025} & \\textbf{0.975]}  \\\\\n\\midrule\n\\textbf{const}  &       0.0189  &        0.013     &     1.423  &         0.155        &       -0.007    &        0.045     \\\\\n\\textbf{ar.L1}  &      -0.5436  &        0.070     &    -7.715  &         0.000        &       -0.682    &       -0.405     \\\\\n\\textbf{ar.L2}  &      -0.1237  &        0.077     &    -1.599  &         0.110        &       -0.275    &        0.028     \\\\\n\\textbf{ma.L1}  &       0.5255  &        0.070     &     7.466  &         0.000        &        0.388    &        0.663     \\\\\n\\textbf{ma.L2}  &       0.0621  &        0.077     &     0.810  &         0.418        &       -0.088    &        0.212     \\\\\n\\textbf{ma.L3}  &      -0.1012  &        0.007     &   -13.525  &         0.000        &       -0.116    &       -0.087     \\\\\n\\textbf{sigma2} &       1.2478  &        0.012     &   103.302  &         0.000        &        1.224    &        1.271     \\\\\n\\bottomrule\n\\end{tabular}\n\\begin{tabular}{lclc}\n\\textbf{Ljung-Box (L1) (Q):}     & 0.00 & \\textbf{  Jarque-Bera (JB):  } & 8480.14  \\\\\n\\textbf{Prob(Q):}                & 0.98 & \\textbf{  Prob(JB):          } &   0.00   \\\\\n\\textbf{Heteroskedasticity (H):} & 0.88 & \\textbf{  Skew:              } &  -0.13   \\\\\n\\textbf{Prob(H) (two-sided):}    & 0.01 & \\textbf{  Kurtosis:          } &   8.72   \\\\\n\\bottomrule\n\\end{tabular}\n%\\caption{SARIMAX Results}\n\\end{center}\n\nWarnings: \\newline\n [1] Covariance matrix calculated using the outer product of gradients (complex-step)."
          },
          "metadata": {},
          "execution_count": 18
        }
      ]
    },
    {
      "cell_type": "code",
      "source": [
        "LLR_test(model_ret_ar_2_ma_3, model_ret_ar_3_ma_3)"
      ],
      "metadata": {
        "colab": {
          "base_uri": "https://localhost:8080/"
        },
        "id": "3trBCYf_CV-l",
        "outputId": "ff1ea3f0-0c40-4577-acd1-e1f962ada2fd"
      },
      "execution_count": null,
      "outputs": [
        {
          "output_type": "execute_result",
          "data": {
            "text/plain": [
              "0.008"
            ]
          },
          "metadata": {},
          "execution_count": 19
        }
      ]
    },
    {
      "cell_type": "code",
      "source": [
        "model_ret_ar_3_ma_1 = ARIMA(df.returns[1:], order=(3,0,1))\n",
        "results_ret_ar_3_ma_1 = model_ret_ar_3_ma_1.fit()\n",
        "results_ret_ar_3_ma_1.summary()"
      ],
      "metadata": {
        "colab": {
          "base_uri": "https://localhost:8080/",
          "height": 494
        },
        "id": "Of8D_36QCafy",
        "outputId": "6428771a-ef04-4570-c8d4-51634c4f3f32"
      },
      "execution_count": null,
      "outputs": [
        {
          "output_type": "execute_result",
          "data": {
            "text/plain": [
              "<class 'statsmodels.iolib.summary.Summary'>\n",
              "\"\"\"\n",
              "                               SARIMAX Results                                \n",
              "==============================================================================\n",
              "Dep. Variable:                returns   No. Observations:                 6200\n",
              "Model:                 ARIMA(3, 0, 1)   Log Likelihood               -9486.070\n",
              "Date:                Sun, 15 Oct 2023   AIC                          18984.140\n",
              "Time:                        01:55:51   BIC                          19024.534\n",
              "Sample:                             0   HQIC                         18998.144\n",
              "                               - 6200                                         \n",
              "Covariance Type:                  opg                                         \n",
              "==============================================================================\n",
              "                 coef    std err          z      P>|z|      [0.025      0.975]\n",
              "------------------------------------------------------------------------------\n",
              "const          0.0189      0.013      1.429      0.153      -0.007       0.045\n",
              "ar.L1         -0.5078      0.068     -7.436      0.000      -0.642      -0.374\n",
              "ar.L2         -0.0583      0.008     -7.211      0.000      -0.074      -0.042\n",
              "ar.L3         -0.0926      0.007    -12.891      0.000      -0.107      -0.079\n",
              "ma.L1          0.4895      0.069      7.047      0.000       0.353       0.626\n",
              "sigma2         1.2487      0.012    104.470      0.000       1.225       1.272\n",
              "===================================================================================\n",
              "Ljung-Box (L1) (Q):                   0.00   Jarque-Bera (JB):              8624.74\n",
              "Prob(Q):                              0.97   Prob(JB):                         0.00\n",
              "Heteroskedasticity (H):               0.88   Skew:                            -0.13\n",
              "Prob(H) (two-sided):                  0.00   Kurtosis:                         8.77\n",
              "===================================================================================\n",
              "\n",
              "Warnings:\n",
              "[1] Covariance matrix calculated using the outer product of gradients (complex-step).\n",
              "\"\"\""
            ],
            "text/html": [
              "<table class=\"simpletable\">\n",
              "<caption>SARIMAX Results</caption>\n",
              "<tr>\n",
              "  <th>Dep. Variable:</th>        <td>returns</td>     <th>  No. Observations:  </th>   <td>6200</td>   \n",
              "</tr>\n",
              "<tr>\n",
              "  <th>Model:</th>            <td>ARIMA(3, 0, 1)</td>  <th>  Log Likelihood     </th> <td>-9486.070</td>\n",
              "</tr>\n",
              "<tr>\n",
              "  <th>Date:</th>            <td>Sun, 15 Oct 2023</td> <th>  AIC                </th> <td>18984.140</td>\n",
              "</tr>\n",
              "<tr>\n",
              "  <th>Time:</th>                <td>01:55:51</td>     <th>  BIC                </th> <td>19024.534</td>\n",
              "</tr>\n",
              "<tr>\n",
              "  <th>Sample:</th>                  <td>0</td>        <th>  HQIC               </th> <td>18998.144</td>\n",
              "</tr>\n",
              "<tr>\n",
              "  <th></th>                      <td> - 6200</td>     <th>                     </th>     <td> </td>    \n",
              "</tr>\n",
              "<tr>\n",
              "  <th>Covariance Type:</th>        <td>opg</td>       <th>                     </th>     <td> </td>    \n",
              "</tr>\n",
              "</table>\n",
              "<table class=\"simpletable\">\n",
              "<tr>\n",
              "     <td></td>       <th>coef</th>     <th>std err</th>      <th>z</th>      <th>P>|z|</th>  <th>[0.025</th>    <th>0.975]</th>  \n",
              "</tr>\n",
              "<tr>\n",
              "  <th>const</th>  <td>    0.0189</td> <td>    0.013</td> <td>    1.429</td> <td> 0.153</td> <td>   -0.007</td> <td>    0.045</td>\n",
              "</tr>\n",
              "<tr>\n",
              "  <th>ar.L1</th>  <td>   -0.5078</td> <td>    0.068</td> <td>   -7.436</td> <td> 0.000</td> <td>   -0.642</td> <td>   -0.374</td>\n",
              "</tr>\n",
              "<tr>\n",
              "  <th>ar.L2</th>  <td>   -0.0583</td> <td>    0.008</td> <td>   -7.211</td> <td> 0.000</td> <td>   -0.074</td> <td>   -0.042</td>\n",
              "</tr>\n",
              "<tr>\n",
              "  <th>ar.L3</th>  <td>   -0.0926</td> <td>    0.007</td> <td>  -12.891</td> <td> 0.000</td> <td>   -0.107</td> <td>   -0.079</td>\n",
              "</tr>\n",
              "<tr>\n",
              "  <th>ma.L1</th>  <td>    0.4895</td> <td>    0.069</td> <td>    7.047</td> <td> 0.000</td> <td>    0.353</td> <td>    0.626</td>\n",
              "</tr>\n",
              "<tr>\n",
              "  <th>sigma2</th> <td>    1.2487</td> <td>    0.012</td> <td>  104.470</td> <td> 0.000</td> <td>    1.225</td> <td>    1.272</td>\n",
              "</tr>\n",
              "</table>\n",
              "<table class=\"simpletable\">\n",
              "<tr>\n",
              "  <th>Ljung-Box (L1) (Q):</th>     <td>0.00</td> <th>  Jarque-Bera (JB):  </th> <td>8624.74</td>\n",
              "</tr>\n",
              "<tr>\n",
              "  <th>Prob(Q):</th>                <td>0.97</td> <th>  Prob(JB):          </th>  <td>0.00</td>  \n",
              "</tr>\n",
              "<tr>\n",
              "  <th>Heteroskedasticity (H):</th> <td>0.88</td> <th>  Skew:              </th>  <td>-0.13</td> \n",
              "</tr>\n",
              "<tr>\n",
              "  <th>Prob(H) (two-sided):</th>    <td>0.00</td> <th>  Kurtosis:          </th>  <td>8.77</td>  \n",
              "</tr>\n",
              "</table><br/><br/>Warnings:<br/>[1] Covariance matrix calculated using the outer product of gradients (complex-step)."
            ],
            "text/latex": "\\begin{center}\n\\begin{tabular}{lclc}\n\\toprule\n\\textbf{Dep. Variable:}          &     returns      & \\textbf{  No. Observations:  } &    6200     \\\\\n\\textbf{Model:}                  &  ARIMA(3, 0, 1)  & \\textbf{  Log Likelihood     } & -9486.070   \\\\\n\\textbf{Date:}                   & Sun, 15 Oct 2023 & \\textbf{  AIC                } & 18984.140   \\\\\n\\textbf{Time:}                   &     01:55:51     & \\textbf{  BIC                } & 19024.534   \\\\\n\\textbf{Sample:}                 &        0         & \\textbf{  HQIC               } & 18998.144   \\\\\n\\textbf{}                        &      - 6200      & \\textbf{                     } &             \\\\\n\\textbf{Covariance Type:}        &       opg        & \\textbf{                     } &             \\\\\n\\bottomrule\n\\end{tabular}\n\\begin{tabular}{lcccccc}\n                & \\textbf{coef} & \\textbf{std err} & \\textbf{z} & \\textbf{P$> |$z$|$} & \\textbf{[0.025} & \\textbf{0.975]}  \\\\\n\\midrule\n\\textbf{const}  &       0.0189  &        0.013     &     1.429  &         0.153        &       -0.007    &        0.045     \\\\\n\\textbf{ar.L1}  &      -0.5078  &        0.068     &    -7.436  &         0.000        &       -0.642    &       -0.374     \\\\\n\\textbf{ar.L2}  &      -0.0583  &        0.008     &    -7.211  &         0.000        &       -0.074    &       -0.042     \\\\\n\\textbf{ar.L3}  &      -0.0926  &        0.007     &   -12.891  &         0.000        &       -0.107    &       -0.079     \\\\\n\\textbf{ma.L1}  &       0.4895  &        0.069     &     7.047  &         0.000        &        0.353    &        0.626     \\\\\n\\textbf{sigma2} &       1.2487  &        0.012     &   104.470  &         0.000        &        1.225    &        1.272     \\\\\n\\bottomrule\n\\end{tabular}\n\\begin{tabular}{lclc}\n\\textbf{Ljung-Box (L1) (Q):}     & 0.00 & \\textbf{  Jarque-Bera (JB):  } & 8624.74  \\\\\n\\textbf{Prob(Q):}                & 0.97 & \\textbf{  Prob(JB):          } &   0.00   \\\\\n\\textbf{Heteroskedasticity (H):} & 0.88 & \\textbf{  Skew:              } &  -0.13   \\\\\n\\textbf{Prob(H) (two-sided):}    & 0.00 & \\textbf{  Kurtosis:          } &   8.77   \\\\\n\\bottomrule\n\\end{tabular}\n%\\caption{SARIMAX Results}\n\\end{center}\n\nWarnings: \\newline\n [1] Covariance matrix calculated using the outer product of gradients (complex-step)."
          },
          "metadata": {},
          "execution_count": 20
        }
      ]
    },
    {
      "cell_type": "code",
      "source": [
        "LLR_test(model_ret_ar_3_ma_1, model_ret_ar_3_ma_2)"
      ],
      "metadata": {
        "colab": {
          "base_uri": "https://localhost:8080/"
        },
        "id": "h5A6rV4PCczi",
        "outputId": "b09c393d-7881-4641-8a5d-baa39b81c322"
      },
      "execution_count": null,
      "outputs": [
        {
          "output_type": "execute_result",
          "data": {
            "text/plain": [
              "1.0"
            ]
          },
          "metadata": {},
          "execution_count": 21
        }
      ]
    },
    {
      "cell_type": "code",
      "source": [
        "model_ret_ar_2_ma_2 = ARIMA(df.returns[1:], order=(2,0,2))\n",
        "results_ret_ar_2_ma_2 = model_ret_ar_2_ma_2.fit()\n",
        "results_ret_ar_2_ma_2.summary()"
      ],
      "metadata": {
        "colab": {
          "base_uri": "https://localhost:8080/",
          "height": 494
        },
        "id": "QD30EnroCfWn",
        "outputId": "5ec3b591-e073-409d-8c45-b11d06a6d37e"
      },
      "execution_count": null,
      "outputs": [
        {
          "output_type": "execute_result",
          "data": {
            "text/plain": [
              "<class 'statsmodels.iolib.summary.Summary'>\n",
              "\"\"\"\n",
              "                               SARIMAX Results                                \n",
              "==============================================================================\n",
              "Dep. Variable:                returns   No. Observations:                 6200\n",
              "Model:                 ARIMA(2, 0, 2)   Log Likelihood               -9493.224\n",
              "Date:                Sun, 15 Oct 2023   AIC                          18998.447\n",
              "Time:                        01:56:31   BIC                          19038.841\n",
              "Sample:                             0   HQIC                         19012.452\n",
              "                               - 6200                                         \n",
              "Covariance Type:                  opg                                         \n",
              "==============================================================================\n",
              "                 coef    std err          z      P>|z|      [0.025      0.975]\n",
              "------------------------------------------------------------------------------\n",
              "const          0.0189      0.012      1.526      0.127      -0.005       0.043\n",
              "ar.L1         -0.1618      0.033     -4.954      0.000      -0.226      -0.098\n",
              "ar.L2          0.8229      0.033     25.175      0.000       0.759       0.887\n",
              "ma.L1          0.1176      0.029      4.024      0.000       0.060       0.175\n",
              "ma.L2         -0.8578      0.029    -29.404      0.000      -0.915      -0.801\n",
              "sigma2         1.2516      0.012    105.984      0.000       1.228       1.275\n",
              "===================================================================================\n",
              "Ljung-Box (L1) (Q):                   3.38   Jarque-Bera (JB):              9244.04\n",
              "Prob(Q):                              0.07   Prob(JB):                         0.00\n",
              "Heteroskedasticity (H):               0.87   Skew:                            -0.21\n",
              "Prob(H) (two-sided):                  0.00   Kurtosis:                         8.97\n",
              "===================================================================================\n",
              "\n",
              "Warnings:\n",
              "[1] Covariance matrix calculated using the outer product of gradients (complex-step).\n",
              "\"\"\""
            ],
            "text/html": [
              "<table class=\"simpletable\">\n",
              "<caption>SARIMAX Results</caption>\n",
              "<tr>\n",
              "  <th>Dep. Variable:</th>        <td>returns</td>     <th>  No. Observations:  </th>   <td>6200</td>   \n",
              "</tr>\n",
              "<tr>\n",
              "  <th>Model:</th>            <td>ARIMA(2, 0, 2)</td>  <th>  Log Likelihood     </th> <td>-9493.224</td>\n",
              "</tr>\n",
              "<tr>\n",
              "  <th>Date:</th>            <td>Sun, 15 Oct 2023</td> <th>  AIC                </th> <td>18998.447</td>\n",
              "</tr>\n",
              "<tr>\n",
              "  <th>Time:</th>                <td>01:56:31</td>     <th>  BIC                </th> <td>19038.841</td>\n",
              "</tr>\n",
              "<tr>\n",
              "  <th>Sample:</th>                  <td>0</td>        <th>  HQIC               </th> <td>19012.452</td>\n",
              "</tr>\n",
              "<tr>\n",
              "  <th></th>                      <td> - 6200</td>     <th>                     </th>     <td> </td>    \n",
              "</tr>\n",
              "<tr>\n",
              "  <th>Covariance Type:</th>        <td>opg</td>       <th>                     </th>     <td> </td>    \n",
              "</tr>\n",
              "</table>\n",
              "<table class=\"simpletable\">\n",
              "<tr>\n",
              "     <td></td>       <th>coef</th>     <th>std err</th>      <th>z</th>      <th>P>|z|</th>  <th>[0.025</th>    <th>0.975]</th>  \n",
              "</tr>\n",
              "<tr>\n",
              "  <th>const</th>  <td>    0.0189</td> <td>    0.012</td> <td>    1.526</td> <td> 0.127</td> <td>   -0.005</td> <td>    0.043</td>\n",
              "</tr>\n",
              "<tr>\n",
              "  <th>ar.L1</th>  <td>   -0.1618</td> <td>    0.033</td> <td>   -4.954</td> <td> 0.000</td> <td>   -0.226</td> <td>   -0.098</td>\n",
              "</tr>\n",
              "<tr>\n",
              "  <th>ar.L2</th>  <td>    0.8229</td> <td>    0.033</td> <td>   25.175</td> <td> 0.000</td> <td>    0.759</td> <td>    0.887</td>\n",
              "</tr>\n",
              "<tr>\n",
              "  <th>ma.L1</th>  <td>    0.1176</td> <td>    0.029</td> <td>    4.024</td> <td> 0.000</td> <td>    0.060</td> <td>    0.175</td>\n",
              "</tr>\n",
              "<tr>\n",
              "  <th>ma.L2</th>  <td>   -0.8578</td> <td>    0.029</td> <td>  -29.404</td> <td> 0.000</td> <td>   -0.915</td> <td>   -0.801</td>\n",
              "</tr>\n",
              "<tr>\n",
              "  <th>sigma2</th> <td>    1.2516</td> <td>    0.012</td> <td>  105.984</td> <td> 0.000</td> <td>    1.228</td> <td>    1.275</td>\n",
              "</tr>\n",
              "</table>\n",
              "<table class=\"simpletable\">\n",
              "<tr>\n",
              "  <th>Ljung-Box (L1) (Q):</th>     <td>3.38</td> <th>  Jarque-Bera (JB):  </th> <td>9244.04</td>\n",
              "</tr>\n",
              "<tr>\n",
              "  <th>Prob(Q):</th>                <td>0.07</td> <th>  Prob(JB):          </th>  <td>0.00</td>  \n",
              "</tr>\n",
              "<tr>\n",
              "  <th>Heteroskedasticity (H):</th> <td>0.87</td> <th>  Skew:              </th>  <td>-0.21</td> \n",
              "</tr>\n",
              "<tr>\n",
              "  <th>Prob(H) (two-sided):</th>    <td>0.00</td> <th>  Kurtosis:          </th>  <td>8.97</td>  \n",
              "</tr>\n",
              "</table><br/><br/>Warnings:<br/>[1] Covariance matrix calculated using the outer product of gradients (complex-step)."
            ],
            "text/latex": "\\begin{center}\n\\begin{tabular}{lclc}\n\\toprule\n\\textbf{Dep. Variable:}          &     returns      & \\textbf{  No. Observations:  } &    6200     \\\\\n\\textbf{Model:}                  &  ARIMA(2, 0, 2)  & \\textbf{  Log Likelihood     } & -9493.224   \\\\\n\\textbf{Date:}                   & Sun, 15 Oct 2023 & \\textbf{  AIC                } & 18998.447   \\\\\n\\textbf{Time:}                   &     01:56:31     & \\textbf{  BIC                } & 19038.841   \\\\\n\\textbf{Sample:}                 &        0         & \\textbf{  HQIC               } & 19012.452   \\\\\n\\textbf{}                        &      - 6200      & \\textbf{                     } &             \\\\\n\\textbf{Covariance Type:}        &       opg        & \\textbf{                     } &             \\\\\n\\bottomrule\n\\end{tabular}\n\\begin{tabular}{lcccccc}\n                & \\textbf{coef} & \\textbf{std err} & \\textbf{z} & \\textbf{P$> |$z$|$} & \\textbf{[0.025} & \\textbf{0.975]}  \\\\\n\\midrule\n\\textbf{const}  &       0.0189  &        0.012     &     1.526  &         0.127        &       -0.005    &        0.043     \\\\\n\\textbf{ar.L1}  &      -0.1618  &        0.033     &    -4.954  &         0.000        &       -0.226    &       -0.098     \\\\\n\\textbf{ar.L2}  &       0.8229  &        0.033     &    25.175  &         0.000        &        0.759    &        0.887     \\\\\n\\textbf{ma.L1}  &       0.1176  &        0.029     &     4.024  &         0.000        &        0.060    &        0.175     \\\\\n\\textbf{ma.L2}  &      -0.8578  &        0.029     &   -29.404  &         0.000        &       -0.915    &       -0.801     \\\\\n\\textbf{sigma2} &       1.2516  &        0.012     &   105.984  &         0.000        &        1.228    &        1.275     \\\\\n\\bottomrule\n\\end{tabular}\n\\begin{tabular}{lclc}\n\\textbf{Ljung-Box (L1) (Q):}     & 3.38 & \\textbf{  Jarque-Bera (JB):  } & 9244.04  \\\\\n\\textbf{Prob(Q):}                & 0.07 & \\textbf{  Prob(JB):          } &   0.00   \\\\\n\\textbf{Heteroskedasticity (H):} & 0.87 & \\textbf{  Skew:              } &  -0.21   \\\\\n\\textbf{Prob(H) (two-sided):}    & 0.00 & \\textbf{  Kurtosis:          } &   8.97   \\\\\n\\bottomrule\n\\end{tabular}\n%\\caption{SARIMAX Results}\n\\end{center}\n\nWarnings: \\newline\n [1] Covariance matrix calculated using the outer product of gradients (complex-step)."
          },
          "metadata": {},
          "execution_count": 22
        }
      ]
    },
    {
      "cell_type": "code",
      "source": [
        "model_ret_ar_1_ma_3 = ARIMA(df.returns[1:], order=(1,0,3))\n",
        "results_ret_ar_1_ma_3 = model_ret_ar_1_ma_3.fit()\n",
        "results_ret_ar_1_ma_3.summary()\n"
      ],
      "metadata": {
        "colab": {
          "base_uri": "https://localhost:8080/",
          "height": 494
        },
        "id": "fqvhSDqUCgwt",
        "outputId": "ca71d0a4-e971-49c3-b47f-7cab80914b2f"
      },
      "execution_count": null,
      "outputs": [
        {
          "output_type": "execute_result",
          "data": {
            "text/plain": [
              "<class 'statsmodels.iolib.summary.Summary'>\n",
              "\"\"\"\n",
              "                               SARIMAX Results                                \n",
              "==============================================================================\n",
              "Dep. Variable:                returns   No. Observations:                 6200\n",
              "Model:                 ARIMA(1, 0, 3)   Log Likelihood               -9483.767\n",
              "Date:                Sun, 15 Oct 2023   AIC                          18979.534\n",
              "Time:                        01:56:36   BIC                          19019.928\n",
              "Sample:                             0   HQIC                         18993.539\n",
              "                               - 6200                                         \n",
              "Covariance Type:                  opg                                         \n",
              "==============================================================================\n",
              "                 coef    std err          z      P>|z|      [0.025      0.975]\n",
              "------------------------------------------------------------------------------\n",
              "const          0.0189      0.013      1.448      0.148      -0.007       0.045\n",
              "ar.L1         -0.4690      0.065     -7.192      0.000      -0.597      -0.341\n",
              "ma.L1          0.4510      0.066      6.860      0.000       0.322       0.580\n",
              "ma.L2         -0.0608      0.008     -7.740      0.000      -0.076      -0.045\n",
              "ma.L3         -0.1003      0.007    -14.013      0.000      -0.114      -0.086\n",
              "sigma2         1.2478      0.012    104.255      0.000       1.224       1.271\n",
              "===================================================================================\n",
              "Ljung-Box (L1) (Q):                   0.00   Jarque-Bera (JB):              8509.35\n",
              "Prob(Q):                              0.99   Prob(JB):                         0.00\n",
              "Heteroskedasticity (H):               0.88   Skew:                            -0.15\n",
              "Prob(H) (two-sided):                  0.00   Kurtosis:                         8.73\n",
              "===================================================================================\n",
              "\n",
              "Warnings:\n",
              "[1] Covariance matrix calculated using the outer product of gradients (complex-step).\n",
              "\"\"\""
            ],
            "text/html": [
              "<table class=\"simpletable\">\n",
              "<caption>SARIMAX Results</caption>\n",
              "<tr>\n",
              "  <th>Dep. Variable:</th>        <td>returns</td>     <th>  No. Observations:  </th>   <td>6200</td>   \n",
              "</tr>\n",
              "<tr>\n",
              "  <th>Model:</th>            <td>ARIMA(1, 0, 3)</td>  <th>  Log Likelihood     </th> <td>-9483.767</td>\n",
              "</tr>\n",
              "<tr>\n",
              "  <th>Date:</th>            <td>Sun, 15 Oct 2023</td> <th>  AIC                </th> <td>18979.534</td>\n",
              "</tr>\n",
              "<tr>\n",
              "  <th>Time:</th>                <td>01:56:36</td>     <th>  BIC                </th> <td>19019.928</td>\n",
              "</tr>\n",
              "<tr>\n",
              "  <th>Sample:</th>                  <td>0</td>        <th>  HQIC               </th> <td>18993.539</td>\n",
              "</tr>\n",
              "<tr>\n",
              "  <th></th>                      <td> - 6200</td>     <th>                     </th>     <td> </td>    \n",
              "</tr>\n",
              "<tr>\n",
              "  <th>Covariance Type:</th>        <td>opg</td>       <th>                     </th>     <td> </td>    \n",
              "</tr>\n",
              "</table>\n",
              "<table class=\"simpletable\">\n",
              "<tr>\n",
              "     <td></td>       <th>coef</th>     <th>std err</th>      <th>z</th>      <th>P>|z|</th>  <th>[0.025</th>    <th>0.975]</th>  \n",
              "</tr>\n",
              "<tr>\n",
              "  <th>const</th>  <td>    0.0189</td> <td>    0.013</td> <td>    1.448</td> <td> 0.148</td> <td>   -0.007</td> <td>    0.045</td>\n",
              "</tr>\n",
              "<tr>\n",
              "  <th>ar.L1</th>  <td>   -0.4690</td> <td>    0.065</td> <td>   -7.192</td> <td> 0.000</td> <td>   -0.597</td> <td>   -0.341</td>\n",
              "</tr>\n",
              "<tr>\n",
              "  <th>ma.L1</th>  <td>    0.4510</td> <td>    0.066</td> <td>    6.860</td> <td> 0.000</td> <td>    0.322</td> <td>    0.580</td>\n",
              "</tr>\n",
              "<tr>\n",
              "  <th>ma.L2</th>  <td>   -0.0608</td> <td>    0.008</td> <td>   -7.740</td> <td> 0.000</td> <td>   -0.076</td> <td>   -0.045</td>\n",
              "</tr>\n",
              "<tr>\n",
              "  <th>ma.L3</th>  <td>   -0.1003</td> <td>    0.007</td> <td>  -14.013</td> <td> 0.000</td> <td>   -0.114</td> <td>   -0.086</td>\n",
              "</tr>\n",
              "<tr>\n",
              "  <th>sigma2</th> <td>    1.2478</td> <td>    0.012</td> <td>  104.255</td> <td> 0.000</td> <td>    1.224</td> <td>    1.271</td>\n",
              "</tr>\n",
              "</table>\n",
              "<table class=\"simpletable\">\n",
              "<tr>\n",
              "  <th>Ljung-Box (L1) (Q):</th>     <td>0.00</td> <th>  Jarque-Bera (JB):  </th> <td>8509.35</td>\n",
              "</tr>\n",
              "<tr>\n",
              "  <th>Prob(Q):</th>                <td>0.99</td> <th>  Prob(JB):          </th>  <td>0.00</td>  \n",
              "</tr>\n",
              "<tr>\n",
              "  <th>Heteroskedasticity (H):</th> <td>0.88</td> <th>  Skew:              </th>  <td>-0.15</td> \n",
              "</tr>\n",
              "<tr>\n",
              "  <th>Prob(H) (two-sided):</th>    <td>0.00</td> <th>  Kurtosis:          </th>  <td>8.73</td>  \n",
              "</tr>\n",
              "</table><br/><br/>Warnings:<br/>[1] Covariance matrix calculated using the outer product of gradients (complex-step)."
            ],
            "text/latex": "\\begin{center}\n\\begin{tabular}{lclc}\n\\toprule\n\\textbf{Dep. Variable:}          &     returns      & \\textbf{  No. Observations:  } &    6200     \\\\\n\\textbf{Model:}                  &  ARIMA(1, 0, 3)  & \\textbf{  Log Likelihood     } & -9483.767   \\\\\n\\textbf{Date:}                   & Sun, 15 Oct 2023 & \\textbf{  AIC                } & 18979.534   \\\\\n\\textbf{Time:}                   &     01:56:36     & \\textbf{  BIC                } & 19019.928   \\\\\n\\textbf{Sample:}                 &        0         & \\textbf{  HQIC               } & 18993.539   \\\\\n\\textbf{}                        &      - 6200      & \\textbf{                     } &             \\\\\n\\textbf{Covariance Type:}        &       opg        & \\textbf{                     } &             \\\\\n\\bottomrule\n\\end{tabular}\n\\begin{tabular}{lcccccc}\n                & \\textbf{coef} & \\textbf{std err} & \\textbf{z} & \\textbf{P$> |$z$|$} & \\textbf{[0.025} & \\textbf{0.975]}  \\\\\n\\midrule\n\\textbf{const}  &       0.0189  &        0.013     &     1.448  &         0.148        &       -0.007    &        0.045     \\\\\n\\textbf{ar.L1}  &      -0.4690  &        0.065     &    -7.192  &         0.000        &       -0.597    &       -0.341     \\\\\n\\textbf{ma.L1}  &       0.4510  &        0.066     &     6.860  &         0.000        &        0.322    &        0.580     \\\\\n\\textbf{ma.L2}  &      -0.0608  &        0.008     &    -7.740  &         0.000        &       -0.076    &       -0.045     \\\\\n\\textbf{ma.L3}  &      -0.1003  &        0.007     &   -14.013  &         0.000        &       -0.114    &       -0.086     \\\\\n\\textbf{sigma2} &       1.2478  &        0.012     &   104.255  &         0.000        &        1.224    &        1.271     \\\\\n\\bottomrule\n\\end{tabular}\n\\begin{tabular}{lclc}\n\\textbf{Ljung-Box (L1) (Q):}     & 0.00 & \\textbf{  Jarque-Bera (JB):  } & 8509.35  \\\\\n\\textbf{Prob(Q):}                & 0.99 & \\textbf{  Prob(JB):          } &   0.00   \\\\\n\\textbf{Heteroskedasticity (H):} & 0.88 & \\textbf{  Skew:              } &  -0.15   \\\\\n\\textbf{Prob(H) (two-sided):}    & 0.00 & \\textbf{  Kurtosis:          } &   8.73   \\\\\n\\bottomrule\n\\end{tabular}\n%\\caption{SARIMAX Results}\n\\end{center}\n\nWarnings: \\newline\n [1] Covariance matrix calculated using the outer product of gradients (complex-step)."
          },
          "metadata": {},
          "execution_count": 23
        }
      ]
    },
    {
      "cell_type": "code",
      "source": [
        "print(\"\\n ARMA(3,2): \\tLL = \", results_ret_ar_3_ma_2.llf, \"\\tAIC = \", results_ret_ar_3_ma_2.aic)\n",
        "print(\"\\n ARMA(1,3): \\tLL = \", results_ret_ar_1_ma_3.llf, \"\\tAIC = \", results_ret_ar_1_ma_3.aic)\n"
      ],
      "metadata": {
        "colab": {
          "base_uri": "https://localhost:8080/"
        },
        "id": "8cEPyJF2Cm5p",
        "outputId": "3c1a79dc-9ed0-4bb3-ad36-cc0f50f3dcd6"
      },
      "execution_count": null,
      "outputs": [
        {
          "output_type": "stream",
          "name": "stdout",
          "text": [
            "\n",
            " ARMA(3,2): \tLL =  -9486.76631716923 \tAIC =  18987.53263433846\n",
            "\n",
            " ARMA(1,3): \tLL =  -9483.767205693184 \tAIC =  18979.53441138637\n"
          ]
        }
      ]
    },
    {
      "cell_type": "markdown",
      "source": [
        "Residuals for Returns"
      ],
      "metadata": {
        "id": "oyiTvL8sCt0P"
      }
    },
    {
      "cell_type": "code",
      "source": [
        "df['res_ret_ar_3_ma_2'] = results_ret_ar_3_ma_2.resid[1:]"
      ],
      "metadata": {
        "id": "jtn5Ebs7Cs5N"
      },
      "execution_count": null,
      "outputs": []
    },
    {
      "cell_type": "code",
      "source": [
        "df.res_ret_ar_3_ma_2.plot(figsize = (20,5))\n",
        "plt.title(\"Residuals of Returns\", size=24)\n",
        "plt.show()"
      ],
      "metadata": {
        "colab": {
          "base_uri": "https://localhost:8080/",
          "height": 197
        },
        "id": "N-bYw8XzCwqp",
        "outputId": "90f3a2d2-ee3a-4584-f9bb-27772ddfee27"
      },
      "execution_count": null,
      "outputs": [
        {
          "output_type": "display_data",
          "data": {
            "text/plain": [
              "<Figure size 2000x500 with 1 Axes>"
            ],
            "image/png": "[encoded data removed]"
          },
          "metadata": {}
        }
      ]
    },
    {
      "cell_type": "code",
      "source": [
        "sgt.plot_acf(df.res_ret_ar_3_ma_2[2:], zero = False, lags = 40)\n",
        "plt.title(\"ACF Of Residuals for Returns\",size=24)\n",
        "plt.show()"
      ],
      "metadata": {
        "colab": {
          "base_uri": "https://localhost:8080/",
          "height": 469
        },
        "id": "RZNjMW4eC5iV",
        "outputId": "4925d19f-3fef-45e0-8f55-d880334bb5b9"
      },
      "execution_count": null,
      "outputs": [
        {
          "output_type": "display_data",
          "data": {
            "text/plain": [
              "<Figure size 640x480 with 1 Axes>"
            ],
            "image/png": "[encoded data removed]"
          },
          "metadata": {}
        }
      ]
    },
    {
      "cell_type": "markdown",
      "source": [
        "Reevaluating Model Selection"
      ],
      "metadata": {
        "id": "8s9Z01xWC7iK"
      }
    },
    {
      "cell_type": "code",
      "source": [
        "model_ret_ar_5_ma_5 = ARIMA(df.returns[1:], order=(5,0,5))\n",
        "results_ret_ar_5_ma_5 = model_ret_ar_5_ma_5.fit()\n",
        "results_ret_ar_5_ma_5.summary()"
      ],
      "metadata": {
        "colab": {
          "base_uri": "https://localhost:8080/",
          "height": 622
        },
        "id": "5sw-AfVvC9Fy",
        "outputId": "0b901b2c-a04e-4522-8fab-08cca409b1c4"
      },
      "execution_count": null,
      "outputs": [
        {
          "output_type": "execute_result",
          "data": {
            "text/plain": [
              "<class 'statsmodels.iolib.summary.Summary'>\n",
              "\"\"\"\n",
              "                               SARIMAX Results                                \n",
              "==============================================================================\n",
              "Dep. Variable:                returns   No. Observations:                 6200\n",
              "Model:                 ARIMA(5, 0, 5)   Log Likelihood               -9469.241\n",
              "Date:                Sun, 15 Oct 2023   AIC                          18962.482\n",
              "Time:                        01:58:40   BIC                          19043.270\n",
              "Sample:                             0   HQIC                         18990.491\n",
              "                               - 6200                                         \n",
              "Covariance Type:                  opg                                         \n",
              "==============================================================================\n",
              "                 coef    std err          z      P>|z|      [0.025      0.975]\n",
              "------------------------------------------------------------------------------\n",
              "const          0.0194      0.012      1.566      0.117      -0.005       0.044\n",
              "ar.L1         -0.1128      0.113     -0.998      0.318      -0.334       0.109\n",
              "ar.L2         -0.4555      0.071     -6.448      0.000      -0.594      -0.317\n",
              "ar.L3          0.0066      0.066      0.101      0.920      -0.122       0.135\n",
              "ar.L4          0.3372      0.065      5.167      0.000       0.209       0.465\n",
              "ar.L5          0.2760      0.089      3.106      0.002       0.102       0.450\n",
              "ma.L1          0.0930      0.112      0.829      0.407      -0.127       0.313\n",
              "ma.L2          0.4061      0.070      5.765      0.000       0.268       0.544\n",
              "ma.L3         -0.0838      0.064     -1.311      0.190      -0.209       0.041\n",
              "ma.L4         -0.3300      0.063     -5.220      0.000      -0.454      -0.206\n",
              "ma.L5         -0.3465      0.085     -4.052      0.000      -0.514      -0.179\n",
              "sigma2         1.2436      0.012    100.953      0.000       1.219       1.268\n",
              "===================================================================================\n",
              "Ljung-Box (L1) (Q):                   0.00   Jarque-Bera (JB):              8459.46\n",
              "Prob(Q):                              0.98   Prob(JB):                         0.00\n",
              "Heteroskedasticity (H):               0.89   Skew:                            -0.21\n",
              "Prob(H) (two-sided):                  0.01   Kurtosis:                         8.71\n",
              "===================================================================================\n",
              "\n",
              "Warnings:\n",
              "[1] Covariance matrix calculated using the outer product of gradients (complex-step).\n",
              "\"\"\""
            ],
            "text/html": [
              "<table class=\"simpletable\">\n",
              "<caption>SARIMAX Results</caption>\n",
              "<tr>\n",
              "  <th>Dep. Variable:</th>        <td>returns</td>     <th>  No. Observations:  </th>   <td>6200</td>   \n",
              "</tr>\n",
              "<tr>\n",
              "  <th>Model:</th>            <td>ARIMA(5, 0, 5)</td>  <th>  Log Likelihood     </th> <td>-9469.241</td>\n",
              "</tr>\n",
              "<tr>\n",
              "  <th>Date:</th>            <td>Sun, 15 Oct 2023</td> <th>  AIC                </th> <td>18962.482</td>\n",
              "</tr>\n",
              "<tr>\n",
              "  <th>Time:</th>                <td>01:58:40</td>     <th>  BIC                </th> <td>19043.270</td>\n",
              "</tr>\n",
              "<tr>\n",
              "  <th>Sample:</th>                  <td>0</td>        <th>  HQIC               </th> <td>18990.491</td>\n",
              "</tr>\n",
              "<tr>\n",
              "  <th></th>                      <td> - 6200</td>     <th>                     </th>     <td> </td>    \n",
              "</tr>\n",
              "<tr>\n",
              "  <th>Covariance Type:</th>        <td>opg</td>       <th>                     </th>     <td> </td>    \n",
              "</tr>\n",
              "</table>\n",
              "<table class=\"simpletable\">\n",
              "<tr>\n",
              "     <td></td>       <th>coef</th>     <th>std err</th>      <th>z</th>      <th>P>|z|</th>  <th>[0.025</th>    <th>0.975]</th>  \n",
              "</tr>\n",
              "<tr>\n",
              "  <th>const</th>  <td>    0.0194</td> <td>    0.012</td> <td>    1.566</td> <td> 0.117</td> <td>   -0.005</td> <td>    0.044</td>\n",
              "</tr>\n",
              "<tr>\n",
              "  <th>ar.L1</th>  <td>   -0.1128</td> <td>    0.113</td> <td>   -0.998</td> <td> 0.318</td> <td>   -0.334</td> <td>    0.109</td>\n",
              "</tr>\n",
              "<tr>\n",
              "  <th>ar.L2</th>  <td>   -0.4555</td> <td>    0.071</td> <td>   -6.448</td> <td> 0.000</td> <td>   -0.594</td> <td>   -0.317</td>\n",
              "</tr>\n",
              "<tr>\n",
              "  <th>ar.L3</th>  <td>    0.0066</td> <td>    0.066</td> <td>    0.101</td> <td> 0.920</td> <td>   -0.122</td> <td>    0.135</td>\n",
              "</tr>\n",
              "<tr>\n",
              "  <th>ar.L4</th>  <td>    0.3372</td> <td>    0.065</td> <td>    5.167</td> <td> 0.000</td> <td>    0.209</td> <td>    0.465</td>\n",
              "</tr>\n",
              "<tr>\n",
              "  <th>ar.L5</th>  <td>    0.2760</td> <td>    0.089</td> <td>    3.106</td> <td> 0.002</td> <td>    0.102</td> <td>    0.450</td>\n",
              "</tr>\n",
              "<tr>\n",
              "  <th>ma.L1</th>  <td>    0.0930</td> <td>    0.112</td> <td>    0.829</td> <td> 0.407</td> <td>   -0.127</td> <td>    0.313</td>\n",
              "</tr>\n",
              "<tr>\n",
              "  <th>ma.L2</th>  <td>    0.4061</td> <td>    0.070</td> <td>    5.765</td> <td> 0.000</td> <td>    0.268</td> <td>    0.544</td>\n",
              "</tr>\n",
              "<tr>\n",
              "  <th>ma.L3</th>  <td>   -0.0838</td> <td>    0.064</td> <td>   -1.311</td> <td> 0.190</td> <td>   -0.209</td> <td>    0.041</td>\n",
              "</tr>\n",
              "<tr>\n",
              "  <th>ma.L4</th>  <td>   -0.3300</td> <td>    0.063</td> <td>   -5.220</td> <td> 0.000</td> <td>   -0.454</td> <td>   -0.206</td>\n",
              "</tr>\n",
              "<tr>\n",
              "  <th>ma.L5</th>  <td>   -0.3465</td> <td>    0.085</td> <td>   -4.052</td> <td> 0.000</td> <td>   -0.514</td> <td>   -0.179</td>\n",
              "</tr>\n",
              "<tr>\n",
              "  <th>sigma2</th> <td>    1.2436</td> <td>    0.012</td> <td>  100.953</td> <td> 0.000</td> <td>    1.219</td> <td>    1.268</td>\n",
              "</tr>\n",
              "</table>\n",
              "<table class=\"simpletable\">\n",
              "<tr>\n",
              "  <th>Ljung-Box (L1) (Q):</th>     <td>0.00</td> <th>  Jarque-Bera (JB):  </th> <td>8459.46</td>\n",
              "</tr>\n",
              "<tr>\n",
              "  <th>Prob(Q):</th>                <td>0.98</td> <th>  Prob(JB):          </th>  <td>0.00</td>  \n",
              "</tr>\n",
              "<tr>\n",
              "  <th>Heteroskedasticity (H):</th> <td>0.89</td> <th>  Skew:              </th>  <td>-0.21</td> \n",
              "</tr>\n",
              "<tr>\n",
              "  <th>Prob(H) (two-sided):</th>    <td>0.01</td> <th>  Kurtosis:          </th>  <td>8.71</td>  \n",
              "</tr>\n",
              "</table><br/><br/>Warnings:<br/>[1] Covariance matrix calculated using the outer product of gradients (complex-step)."
            ],
            "text/latex": "\\begin{center}\n\\begin{tabular}{lclc}\n\\toprule\n\\textbf{Dep. Variable:}          &     returns      & \\textbf{  No. Observations:  } &    6200     \\\\\n\\textbf{Model:}                  &  ARIMA(5, 0, 5)  & \\textbf{  Log Likelihood     } & -9469.241   \\\\\n\\textbf{Date:}                   & Sun, 15 Oct 2023 & \\textbf{  AIC                } & 18962.482   \\\\\n\\textbf{Time:}                   &     01:58:40     & \\textbf{  BIC                } & 19043.270   \\\\\n\\textbf{Sample:}                 &        0         & \\textbf{  HQIC               } & 18990.491   \\\\\n\\textbf{}                        &      - 6200      & \\textbf{                     } &             \\\\\n\\textbf{Covariance Type:}        &       opg        & \\textbf{                     } &             \\\\\n\\bottomrule\n\\end{tabular}\n\\begin{tabular}{lcccccc}\n                & \\textbf{coef} & \\textbf{std err} & \\textbf{z} & \\textbf{P$> |$z$|$} & \\textbf{[0.025} & \\textbf{0.975]}  \\\\\n\\midrule\n\\textbf{const}  &       0.0194  &        0.012     &     1.566  &         0.117        &       -0.005    &        0.044     \\\\\n\\textbf{ar.L1}  &      -0.1128  &        0.113     &    -0.998  &         0.318        &       -0.334    &        0.109     \\\\\n\\textbf{ar.L2}  &      -0.4555  &        0.071     &    -6.448  &         0.000        &       -0.594    &       -0.317     \\\\\n\\textbf{ar.L3}  &       0.0066  &        0.066     &     0.101  &         0.920        &       -0.122    &        0.135     \\\\\n\\textbf{ar.L4}  &       0.3372  &        0.065     &     5.167  &         0.000        &        0.209    &        0.465     \\\\\n\\textbf{ar.L5}  &       0.2760  &        0.089     &     3.106  &         0.002        &        0.102    &        0.450     \\\\\n\\textbf{ma.L1}  &       0.0930  &        0.112     &     0.829  &         0.407        &       -0.127    &        0.313     \\\\\n\\textbf{ma.L2}  &       0.4061  &        0.070     &     5.765  &         0.000        &        0.268    &        0.544     \\\\\n\\textbf{ma.L3}  &      -0.0838  &        0.064     &    -1.311  &         0.190        &       -0.209    &        0.041     \\\\\n\\textbf{ma.L4}  &      -0.3300  &        0.063     &    -5.220  &         0.000        &       -0.454    &       -0.206     \\\\\n\\textbf{ma.L5}  &      -0.3465  &        0.085     &    -4.052  &         0.000        &       -0.514    &       -0.179     \\\\\n\\textbf{sigma2} &       1.2436  &        0.012     &   100.953  &         0.000        &        1.219    &        1.268     \\\\\n\\bottomrule\n\\end{tabular}\n\\begin{tabular}{lclc}\n\\textbf{Ljung-Box (L1) (Q):}     & 0.00 & \\textbf{  Jarque-Bera (JB):  } & 8459.46  \\\\\n\\textbf{Prob(Q):}                & 0.98 & \\textbf{  Prob(JB):          } &   0.00   \\\\\n\\textbf{Heteroskedasticity (H):} & 0.89 & \\textbf{  Skew:              } &  -0.21   \\\\\n\\textbf{Prob(H) (two-sided):}    & 0.01 & \\textbf{  Kurtosis:          } &   8.71   \\\\\n\\bottomrule\n\\end{tabular}\n%\\caption{SARIMAX Results}\n\\end{center}\n\nWarnings: \\newline\n [1] Covariance matrix calculated using the outer product of gradients (complex-step)."
          },
          "metadata": {},
          "execution_count": 28
        }
      ]
    },
    {
      "cell_type": "code",
      "source": [
        "model_ret_ar_5_ma_1 = ARIMA(df.returns[1:], order=(5,0,1))\n",
        "results_ret_ar_5_ma_1 = model_ret_ar_5_ma_1.fit()\n",
        "results_ret_ar_5_ma_1.summary()"
      ],
      "metadata": {
        "colab": {
          "base_uri": "https://localhost:8080/",
          "height": 537
        },
        "id": "-V7Tf5e9DLy7",
        "outputId": "82f7ec6b-c5a6-47d8-b8d9-31c47b7ebe8f"
      },
      "execution_count": null,
      "outputs": [
        {
          "output_type": "execute_result",
          "data": {
            "text/plain": [
              "<class 'statsmodels.iolib.summary.Summary'>\n",
              "\"\"\"\n",
              "                               SARIMAX Results                                \n",
              "==============================================================================\n",
              "Dep. Variable:                returns   No. Observations:                 6200\n",
              "Model:                 ARIMA(5, 0, 1)   Log Likelihood               -9475.486\n",
              "Date:                Sun, 15 Oct 2023   AIC                          18966.973\n",
              "Time:                        02:00:25   BIC                          19020.831\n",
              "Sample:                             0   HQIC                         18985.645\n",
              "                               - 6200                                         \n",
              "Covariance Type:                  opg                                         \n",
              "==============================================================================\n",
              "                 coef    std err          z      P>|z|      [0.025      0.975]\n",
              "------------------------------------------------------------------------------\n",
              "const          0.0189      0.013      1.502      0.133      -0.006       0.044\n",
              "ar.L1          0.3245      0.100      3.237      0.001       0.128       0.521\n",
              "ar.L2         -0.0456      0.008     -5.569      0.000      -0.062      -0.030\n",
              "ar.L3         -0.0528      0.009     -5.846      0.000      -0.070      -0.035\n",
              "ar.L4          0.0511      0.010      4.991      0.000       0.031       0.071\n",
              "ar.L5         -0.0720      0.007     -9.796      0.000      -0.086      -0.058\n",
              "ma.L1         -0.3434      0.101     -3.398      0.001      -0.541      -0.145\n",
              "sigma2         1.2445      0.012    103.995      0.000       1.221       1.268\n",
              "===================================================================================\n",
              "Ljung-Box (L1) (Q):                   0.00   Jarque-Bera (JB):              8573.57\n",
              "Prob(Q):                              0.96   Prob(JB):                         0.00\n",
              "Heteroskedasticity (H):               0.89   Skew:                            -0.18\n",
              "Prob(H) (two-sided):                  0.01   Kurtosis:                         8.75\n",
              "===================================================================================\n",
              "\n",
              "Warnings:\n",
              "[1] Covariance matrix calculated using the outer product of gradients (complex-step).\n",
              "\"\"\""
            ],
            "text/html": [
              "<table class=\"simpletable\">\n",
              "<caption>SARIMAX Results</caption>\n",
              "<tr>\n",
              "  <th>Dep. Variable:</th>        <td>returns</td>     <th>  No. Observations:  </th>   <td>6200</td>   \n",
              "</tr>\n",
              "<tr>\n",
              "  <th>Model:</th>            <td>ARIMA(5, 0, 1)</td>  <th>  Log Likelihood     </th> <td>-9475.486</td>\n",
              "</tr>\n",
              "<tr>\n",
              "  <th>Date:</th>            <td>Sun, 15 Oct 2023</td> <th>  AIC                </th> <td>18966.973</td>\n",
              "</tr>\n",
              "<tr>\n",
              "  <th>Time:</th>                <td>02:00:25</td>     <th>  BIC                </th> <td>19020.831</td>\n",
              "</tr>\n",
              "<tr>\n",
              "  <th>Sample:</th>                  <td>0</td>        <th>  HQIC               </th> <td>18985.645</td>\n",
              "</tr>\n",
              "<tr>\n",
              "  <th></th>                      <td> - 6200</td>     <th>                     </th>     <td> </td>    \n",
              "</tr>\n",
              "<tr>\n",
              "  <th>Covariance Type:</th>        <td>opg</td>       <th>                     </th>     <td> </td>    \n",
              "</tr>\n",
              "</table>\n",
              "<table class=\"simpletable\">\n",
              "<tr>\n",
              "     <td></td>       <th>coef</th>     <th>std err</th>      <th>z</th>      <th>P>|z|</th>  <th>[0.025</th>    <th>0.975]</th>  \n",
              "</tr>\n",
              "<tr>\n",
              "  <th>const</th>  <td>    0.0189</td> <td>    0.013</td> <td>    1.502</td> <td> 0.133</td> <td>   -0.006</td> <td>    0.044</td>\n",
              "</tr>\n",
              "<tr>\n",
              "  <th>ar.L1</th>  <td>    0.3245</td> <td>    0.100</td> <td>    3.237</td> <td> 0.001</td> <td>    0.128</td> <td>    0.521</td>\n",
              "</tr>\n",
              "<tr>\n",
              "  <th>ar.L2</th>  <td>   -0.0456</td> <td>    0.008</td> <td>   -5.569</td> <td> 0.000</td> <td>   -0.062</td> <td>   -0.030</td>\n",
              "</tr>\n",
              "<tr>\n",
              "  <th>ar.L3</th>  <td>   -0.0528</td> <td>    0.009</td> <td>   -5.846</td> <td> 0.000</td> <td>   -0.070</td> <td>   -0.035</td>\n",
              "</tr>\n",
              "<tr>\n",
              "  <th>ar.L4</th>  <td>    0.0511</td> <td>    0.010</td> <td>    4.991</td> <td> 0.000</td> <td>    0.031</td> <td>    0.071</td>\n",
              "</tr>\n",
              "<tr>\n",
              "  <th>ar.L5</th>  <td>   -0.0720</td> <td>    0.007</td> <td>   -9.796</td> <td> 0.000</td> <td>   -0.086</td> <td>   -0.058</td>\n",
              "</tr>\n",
              "<tr>\n",
              "  <th>ma.L1</th>  <td>   -0.3434</td> <td>    0.101</td> <td>   -3.398</td> <td> 0.001</td> <td>   -0.541</td> <td>   -0.145</td>\n",
              "</tr>\n",
              "<tr>\n",
              "  <th>sigma2</th> <td>    1.2445</td> <td>    0.012</td> <td>  103.995</td> <td> 0.000</td> <td>    1.221</td> <td>    1.268</td>\n",
              "</tr>\n",
              "</table>\n",
              "<table class=\"simpletable\">\n",
              "<tr>\n",
              "  <th>Ljung-Box (L1) (Q):</th>     <td>0.00</td> <th>  Jarque-Bera (JB):  </th> <td>8573.57</td>\n",
              "</tr>\n",
              "<tr>\n",
              "  <th>Prob(Q):</th>                <td>0.96</td> <th>  Prob(JB):          </th>  <td>0.00</td>  \n",
              "</tr>\n",
              "<tr>\n",
              "  <th>Heteroskedasticity (H):</th> <td>0.89</td> <th>  Skew:              </th>  <td>-0.18</td> \n",
              "</tr>\n",
              "<tr>\n",
              "  <th>Prob(H) (two-sided):</th>    <td>0.01</td> <th>  Kurtosis:          </th>  <td>8.75</td>  \n",
              "</tr>\n",
              "</table><br/><br/>Warnings:<br/>[1] Covariance matrix calculated using the outer product of gradients (complex-step)."
            ],
            "text/latex": "\\begin{center}\n\\begin{tabular}{lclc}\n\\toprule\n\\textbf{Dep. Variable:}          &     returns      & \\textbf{  No. Observations:  } &    6200     \\\\\n\\textbf{Model:}                  &  ARIMA(5, 0, 1)  & \\textbf{  Log Likelihood     } & -9475.486   \\\\\n\\textbf{Date:}                   & Sun, 15 Oct 2023 & \\textbf{  AIC                } & 18966.973   \\\\\n\\textbf{Time:}                   &     02:00:25     & \\textbf{  BIC                } & 19020.831   \\\\\n\\textbf{Sample:}                 &        0         & \\textbf{  HQIC               } & 18985.645   \\\\\n\\textbf{}                        &      - 6200      & \\textbf{                     } &             \\\\\n\\textbf{Covariance Type:}        &       opg        & \\textbf{                     } &             \\\\\n\\bottomrule\n\\end{tabular}\n\\begin{tabular}{lcccccc}\n                & \\textbf{coef} & \\textbf{std err} & \\textbf{z} & \\textbf{P$> |$z$|$} & \\textbf{[0.025} & \\textbf{0.975]}  \\\\\n\\midrule\n\\textbf{const}  &       0.0189  &        0.013     &     1.502  &         0.133        &       -0.006    &        0.044     \\\\\n\\textbf{ar.L1}  &       0.3245  &        0.100     &     3.237  &         0.001        &        0.128    &        0.521     \\\\\n\\textbf{ar.L2}  &      -0.0456  &        0.008     &    -5.569  &         0.000        &       -0.062    &       -0.030     \\\\\n\\textbf{ar.L3}  &      -0.0528  &        0.009     &    -5.846  &         0.000        &       -0.070    &       -0.035     \\\\\n\\textbf{ar.L4}  &       0.0511  &        0.010     &     4.991  &         0.000        &        0.031    &        0.071     \\\\\n\\textbf{ar.L5}  &      -0.0720  &        0.007     &    -9.796  &         0.000        &       -0.086    &       -0.058     \\\\\n\\textbf{ma.L1}  &      -0.3434  &        0.101     &    -3.398  &         0.001        &       -0.541    &       -0.145     \\\\\n\\textbf{sigma2} &       1.2445  &        0.012     &   103.995  &         0.000        &        1.221    &        1.268     \\\\\n\\bottomrule\n\\end{tabular}\n\\begin{tabular}{lclc}\n\\textbf{Ljung-Box (L1) (Q):}     & 0.00 & \\textbf{  Jarque-Bera (JB):  } & 8573.57  \\\\\n\\textbf{Prob(Q):}                & 0.96 & \\textbf{  Prob(JB):          } &   0.00   \\\\\n\\textbf{Heteroskedasticity (H):} & 0.89 & \\textbf{  Skew:              } &  -0.18   \\\\\n\\textbf{Prob(H) (two-sided):}    & 0.01 & \\textbf{  Kurtosis:          } &   8.75   \\\\\n\\bottomrule\n\\end{tabular}\n%\\caption{SARIMAX Results}\n\\end{center}\n\nWarnings: \\newline\n [1] Covariance matrix calculated using the outer product of gradients (complex-step)."
          },
          "metadata": {},
          "execution_count": 30
        }
      ]
    },
    {
      "cell_type": "code",
      "source": [
        "model_ret_ar_1_ma_5 = ARIMA(df.returns[1:], order=(1,0,5))\n",
        "results_ret_ar_1_ma_5 = model_ret_ar_1_ma_5.fit()\n",
        "results_ret_ar_1_ma_5.summary()"
      ],
      "metadata": {
        "colab": {
          "base_uri": "https://localhost:8080/",
          "height": 537
        },
        "id": "EflZAeIHDOOT",
        "outputId": "8c8d3c05-28f2-48cd-c333-7d049d31ac1b"
      },
      "execution_count": null,
      "outputs": [
        {
          "output_type": "execute_result",
          "data": {
            "text/plain": [
              "<class 'statsmodels.iolib.summary.Summary'>\n",
              "\"\"\"\n",
              "                               SARIMAX Results                                \n",
              "==============================================================================\n",
              "Dep. Variable:                returns   No. Observations:                 6200\n",
              "Model:                 ARIMA(1, 0, 5)   Log Likelihood               -9476.512\n",
              "Date:                Sun, 15 Oct 2023   AIC                          18969.024\n",
              "Time:                        02:00:35   BIC                          19022.882\n",
              "Sample:                             0   HQIC                         18987.696\n",
              "                               - 6200                                         \n",
              "Covariance Type:                  opg                                         \n",
              "==============================================================================\n",
              "                 coef    std err          z      P>|z|      [0.025      0.975]\n",
              "------------------------------------------------------------------------------\n",
              "const          0.0189      0.013      1.505      0.132      -0.006       0.044\n",
              "ar.L1          0.3039      0.118      2.572      0.010       0.072       0.535\n",
              "ma.L1         -0.3238      0.119     -2.730      0.006      -0.556      -0.091\n",
              "ma.L2         -0.0422      0.008     -5.035      0.000      -0.059      -0.026\n",
              "ma.L3         -0.0543      0.010     -5.558      0.000      -0.074      -0.035\n",
              "ma.L4          0.0518      0.012      4.434      0.000       0.029       0.075\n",
              "ma.L5         -0.0637      0.008     -8.399      0.000      -0.079      -0.049\n",
              "sigma2         1.2449      0.012    103.522      0.000       1.221       1.268\n",
              "===================================================================================\n",
              "Ljung-Box (L1) (Q):                   0.00   Jarque-Bera (JB):              8591.66\n",
              "Prob(Q):                              0.97   Prob(JB):                         0.00\n",
              "Heteroskedasticity (H):               0.88   Skew:                            -0.19\n",
              "Prob(H) (two-sided):                  0.01   Kurtosis:                         8.75\n",
              "===================================================================================\n",
              "\n",
              "Warnings:\n",
              "[1] Covariance matrix calculated using the outer product of gradients (complex-step).\n",
              "\"\"\""
            ],
            "text/html": [
              "<table class=\"simpletable\">\n",
              "<caption>SARIMAX Results</caption>\n",
              "<tr>\n",
              "  <th>Dep. Variable:</th>        <td>returns</td>     <th>  No. Observations:  </th>   <td>6200</td>   \n",
              "</tr>\n",
              "<tr>\n",
              "  <th>Model:</th>            <td>ARIMA(1, 0, 5)</td>  <th>  Log Likelihood     </th> <td>-9476.512</td>\n",
              "</tr>\n",
              "<tr>\n",
              "  <th>Date:</th>            <td>Sun, 15 Oct 2023</td> <th>  AIC                </th> <td>18969.024</td>\n",
              "</tr>\n",
              "<tr>\n",
              "  <th>Time:</th>                <td>02:00:35</td>     <th>  BIC                </th> <td>19022.882</td>\n",
              "</tr>\n",
              "<tr>\n",
              "  <th>Sample:</th>                  <td>0</td>        <th>  HQIC               </th> <td>18987.696</td>\n",
              "</tr>\n",
              "<tr>\n",
              "  <th></th>                      <td> - 6200</td>     <th>                     </th>     <td> </td>    \n",
              "</tr>\n",
              "<tr>\n",
              "  <th>Covariance Type:</th>        <td>opg</td>       <th>                     </th>     <td> </td>    \n",
              "</tr>\n",
              "</table>\n",
              "<table class=\"simpletable\">\n",
              "<tr>\n",
              "     <td></td>       <th>coef</th>     <th>std err</th>      <th>z</th>      <th>P>|z|</th>  <th>[0.025</th>    <th>0.975]</th>  \n",
              "</tr>\n",
              "<tr>\n",
              "  <th>const</th>  <td>    0.0189</td> <td>    0.013</td> <td>    1.505</td> <td> 0.132</td> <td>   -0.006</td> <td>    0.044</td>\n",
              "</tr>\n",
              "<tr>\n",
              "  <th>ar.L1</th>  <td>    0.3039</td> <td>    0.118</td> <td>    2.572</td> <td> 0.010</td> <td>    0.072</td> <td>    0.535</td>\n",
              "</tr>\n",
              "<tr>\n",
              "  <th>ma.L1</th>  <td>   -0.3238</td> <td>    0.119</td> <td>   -2.730</td> <td> 0.006</td> <td>   -0.556</td> <td>   -0.091</td>\n",
              "</tr>\n",
              "<tr>\n",
              "  <th>ma.L2</th>  <td>   -0.0422</td> <td>    0.008</td> <td>   -5.035</td> <td> 0.000</td> <td>   -0.059</td> <td>   -0.026</td>\n",
              "</tr>\n",
              "<tr>\n",
              "  <th>ma.L3</th>  <td>   -0.0543</td> <td>    0.010</td> <td>   -5.558</td> <td> 0.000</td> <td>   -0.074</td> <td>   -0.035</td>\n",
              "</tr>\n",
              "<tr>\n",
              "  <th>ma.L4</th>  <td>    0.0518</td> <td>    0.012</td> <td>    4.434</td> <td> 0.000</td> <td>    0.029</td> <td>    0.075</td>\n",
              "</tr>\n",
              "<tr>\n",
              "  <th>ma.L5</th>  <td>   -0.0637</td> <td>    0.008</td> <td>   -8.399</td> <td> 0.000</td> <td>   -0.079</td> <td>   -0.049</td>\n",
              "</tr>\n",
              "<tr>\n",
              "  <th>sigma2</th> <td>    1.2449</td> <td>    0.012</td> <td>  103.522</td> <td> 0.000</td> <td>    1.221</td> <td>    1.268</td>\n",
              "</tr>\n",
              "</table>\n",
              "<table class=\"simpletable\">\n",
              "<tr>\n",
              "  <th>Ljung-Box (L1) (Q):</th>     <td>0.00</td> <th>  Jarque-Bera (JB):  </th> <td>8591.66</td>\n",
              "</tr>\n",
              "<tr>\n",
              "  <th>Prob(Q):</th>                <td>0.97</td> <th>  Prob(JB):          </th>  <td>0.00</td>  \n",
              "</tr>\n",
              "<tr>\n",
              "  <th>Heteroskedasticity (H):</th> <td>0.88</td> <th>  Skew:              </th>  <td>-0.19</td> \n",
              "</tr>\n",
              "<tr>\n",
              "  <th>Prob(H) (two-sided):</th>    <td>0.01</td> <th>  Kurtosis:          </th>  <td>8.75</td>  \n",
              "</tr>\n",
              "</table><br/><br/>Warnings:<br/>[1] Covariance matrix calculated using the outer product of gradients (complex-step)."
            ],
            "text/latex": "\\begin{center}\n\\begin{tabular}{lclc}\n\\toprule\n\\textbf{Dep. Variable:}          &     returns      & \\textbf{  No. Observations:  } &    6200     \\\\\n\\textbf{Model:}                  &  ARIMA(1, 0, 5)  & \\textbf{  Log Likelihood     } & -9476.512   \\\\\n\\textbf{Date:}                   & Sun, 15 Oct 2023 & \\textbf{  AIC                } & 18969.024   \\\\\n\\textbf{Time:}                   &     02:00:35     & \\textbf{  BIC                } & 19022.882   \\\\\n\\textbf{Sample:}                 &        0         & \\textbf{  HQIC               } & 18987.696   \\\\\n\\textbf{}                        &      - 6200      & \\textbf{                     } &             \\\\\n\\textbf{Covariance Type:}        &       opg        & \\textbf{                     } &             \\\\\n\\bottomrule\n\\end{tabular}\n\\begin{tabular}{lcccccc}\n                & \\textbf{coef} & \\textbf{std err} & \\textbf{z} & \\textbf{P$> |$z$|$} & \\textbf{[0.025} & \\textbf{0.975]}  \\\\\n\\midrule\n\\textbf{const}  &       0.0189  &        0.013     &     1.505  &         0.132        &       -0.006    &        0.044     \\\\\n\\textbf{ar.L1}  &       0.3039  &        0.118     &     2.572  &         0.010        &        0.072    &        0.535     \\\\\n\\textbf{ma.L1}  &      -0.3238  &        0.119     &    -2.730  &         0.006        &       -0.556    &       -0.091     \\\\\n\\textbf{ma.L2}  &      -0.0422  &        0.008     &    -5.035  &         0.000        &       -0.059    &       -0.026     \\\\\n\\textbf{ma.L3}  &      -0.0543  &        0.010     &    -5.558  &         0.000        &       -0.074    &       -0.035     \\\\\n\\textbf{ma.L4}  &       0.0518  &        0.012     &     4.434  &         0.000        &        0.029    &        0.075     \\\\\n\\textbf{ma.L5}  &      -0.0637  &        0.008     &    -8.399  &         0.000        &       -0.079    &       -0.049     \\\\\n\\textbf{sigma2} &       1.2449  &        0.012     &   103.522  &         0.000        &        1.221    &        1.268     \\\\\n\\bottomrule\n\\end{tabular}\n\\begin{tabular}{lclc}\n\\textbf{Ljung-Box (L1) (Q):}     & 0.00 & \\textbf{  Jarque-Bera (JB):  } & 8591.66  \\\\\n\\textbf{Prob(Q):}                & 0.97 & \\textbf{  Prob(JB):          } &   0.00   \\\\\n\\textbf{Heteroskedasticity (H):} & 0.88 & \\textbf{  Skew:              } &  -0.19   \\\\\n\\textbf{Prob(H) (two-sided):}    & 0.01 & \\textbf{  Kurtosis:          } &   8.75   \\\\\n\\bottomrule\n\\end{tabular}\n%\\caption{SARIMAX Results}\n\\end{center}\n\nWarnings: \\newline\n [1] Covariance matrix calculated using the outer product of gradients (complex-step)."
          },
          "metadata": {},
          "execution_count": 31
        }
      ]
    },
    {
      "cell_type": "code",
      "source": [
        "print(\"ARMA(5,1):  \\t LL = \",results_ret_ar_5_ma_1.llf,\"\\t AIC = \",results_ret_ar_5_ma_1.aic)\n",
        "print(\"ARMA(1,5):  \\t LL = \",results_ret_ar_1_ma_5.llf,\"\\t AIC = \",results_ret_ar_1_ma_5.aic)\n"
      ],
      "metadata": {
        "colab": {
          "base_uri": "https://localhost:8080/"
        },
        "id": "JkMy1E0KDQQj",
        "outputId": "641a924d-b42c-4b96-f516-0edf5d9a8a63"
      },
      "execution_count": null,
      "outputs": [
        {
          "output_type": "stream",
          "name": "stdout",
          "text": [
            "ARMA(5,1):  \t LL =  -9475.486351959837 \t AIC =  18966.972703919673\n",
            "ARMA(1,5):  \t LL =  -9476.511948046895 \t AIC =  18969.02389609379\n"
          ]
        }
      ]
    },
    {
      "cell_type": "code",
      "source": [
        "print(\"ARMA(3,2):  \\t LL = \",results_ret_ar_3_ma_2.llf,\"\\t AIC = \",results_ret_ar_3_ma_2.aic)\n"
      ],
      "metadata": {
        "colab": {
          "base_uri": "https://localhost:8080/"
        },
        "id": "HuzOm5e4DSiv",
        "outputId": "4c79b22d-4d44-44ff-dc73-7c428a868a59"
      },
      "execution_count": null,
      "outputs": [
        {
          "output_type": "stream",
          "name": "stdout",
          "text": [
            "ARMA(3,2):  \t LL =  -9486.76631716923 \t AIC =  18987.53263433846\n"
          ]
        }
      ]
    },
    {
      "cell_type": "markdown",
      "source": [
        "Residuals for the New Model"
      ],
      "metadata": {
        "id": "pC-M9jAdCPeq"
      }
    },
    {
      "cell_type": "code",
      "source": [
        "df['res_ret_ar_5_ma_1'] = results_ret_ar_5_ma_1.resid"
      ],
      "metadata": {
        "id": "c1tl_U-sDYXf"
      },
      "execution_count": null,
      "outputs": []
    },
    {
      "cell_type": "code",
      "source": [
        "sgt.plot_acf(df.res_ret_ar_5_ma_1[1:], zero = False, lags = 40)\n",
        "plt.title(\"ACF of Residuals for Returns\",size=24)\n",
        "plt.show()"
      ],
      "metadata": {
        "colab": {
          "base_uri": "https://localhost:8080/",
          "height": 469
        },
        "id": "KpIoCcEODZpo",
        "outputId": "4b63422c-1918-4e59-a71a-40b6fad560ed"
      },
      "execution_count": null,
      "outputs": [
        {
          "output_type": "display_data",
          "data": {
            "text/plain": [
              "<Figure size 640x480 with 1 Axes>"
            ],
            "image/png": "[encoded data removed]"
          },
          "metadata": {}
        }
      ]
    },
    {
      "cell_type": "markdown",
      "source": [
        "ARMA Models for Prices"
      ],
      "metadata": {
        "id": "le_bCqb2DlP_"
      }
    },
    {
      "cell_type": "code",
      "source": [
        "sgt.plot_acf(df.market_value, unbiased=True, zero = False, lags = 40)\n",
        "plt.title(\"Autocorrelation Function for Prices\",size=20)\n",
        "plt.show()"
      ],
      "metadata": {
        "colab": {
          "base_uri": "https://localhost:8080/",
          "height": 465
        },
        "id": "138ej45GDnAl",
        "outputId": "a2f58de7-9efd-46de-9a95-963beb9f6d3f"
      },
      "execution_count": null,
      "outputs": [
        {
          "output_type": "display_data",
          "data": {
            "text/plain": [
              "<Figure size 640x480 with 1 Axes>"
            ],
            "image/png": "[encoded data removed]"
          },
          "metadata": {}
        }
      ]
    },
    {
      "cell_type": "code",
      "source": [
        "sgt.plot_pacf(df.market_value, lags = 40, alpha = 0.05, zero = False , method = ('ols'))\n",
        "plt.title(\"Partial Autocorrelation Function for Prices\",size=20)\n",
        "plt.show()"
      ],
      "metadata": {
        "colab": {
          "base_uri": "https://localhost:8080/",
          "height": 465
        },
        "id": "16aMPSZXDpoU",
        "outputId": "89f00ba6-f572-49b5-977b-8b74c25bb2b5"
      },
      "execution_count": null,
      "outputs": [
        {
          "output_type": "display_data",
          "data": {
            "text/plain": [
              "<Figure size 640x480 with 1 Axes>"
            ],
            "image/png": "[encoded data removed]"
          },
          "metadata": {}
        }
      ]
    },
    {
      "cell_type": "code",
      "source": [
        "model_ar_1_ma_1 = ARIMA(df.market_value, order=(1,0,1))\n",
        "results_ar_1_ma_1 = model_ar_1_ma_1.fit()\n",
        "results_ar_1_ma_1.summary()"
      ],
      "metadata": {
        "colab": {
          "base_uri": "https://localhost:8080/",
          "height": 452
        },
        "id": "EoljafdlDrHJ",
        "outputId": "ddd48818-35bc-4e80-9420-08508676bdcc"
      },
      "execution_count": null,
      "outputs": [
        {
          "output_type": "execute_result",
          "data": {
            "text/plain": [
              "<class 'statsmodels.iolib.summary.Summary'>\n",
              "\"\"\"\n",
              "                               SARIMAX Results                                \n",
              "==============================================================================\n",
              "Dep. Variable:           market_value   No. Observations:                 6201\n",
              "Model:                 ARIMA(1, 0, 1)   Log Likelihood              -34045.191\n",
              "Date:                Sun, 15 Oct 2023   AIC                          68098.383\n",
              "Time:                        02:00:57   BIC                          68125.312\n",
              "Sample:                             0   HQIC                         68107.719\n",
              "                               - 6201                                         \n",
              "Covariance Type:                  opg                                         \n",
              "==============================================================================\n",
              "                 coef    std err          z      P>|z|      [0.025      0.975]\n",
              "------------------------------------------------------------------------------\n",
              "const       5399.5071    456.121     11.838      0.000    4505.527    6293.487\n",
              "ar.L1          0.9987      0.001   1404.324      0.000       0.997       1.000\n",
              "ma.L1         -0.0086      0.009     -0.976      0.329      -0.026       0.009\n",
              "sigma2      3434.9319     36.931     93.010      0.000    3362.549    3507.315\n",
              "===================================================================================\n",
              "Ljung-Box (L1) (Q):                   0.00   Jarque-Bera (JB):              3541.31\n",
              "Prob(Q):                              1.00   Prob(JB):                         0.00\n",
              "Heteroskedasticity (H):               1.07   Skew:                            -0.19\n",
              "Prob(H) (two-sided):                  0.13   Kurtosis:                         6.68\n",
              "===================================================================================\n",
              "\n",
              "Warnings:\n",
              "[1] Covariance matrix calculated using the outer product of gradients (complex-step).\n",
              "\"\"\""
            ],
            "text/html": [
              "<table class=\"simpletable\">\n",
              "<caption>SARIMAX Results</caption>\n",
              "<tr>\n",
              "  <th>Dep. Variable:</th>     <td>market_value</td>   <th>  No. Observations:  </th>    <td>6201</td>   \n",
              "</tr>\n",
              "<tr>\n",
              "  <th>Model:</th>            <td>ARIMA(1, 0, 1)</td>  <th>  Log Likelihood     </th> <td>-34045.191</td>\n",
              "</tr>\n",
              "<tr>\n",
              "  <th>Date:</th>            <td>Sun, 15 Oct 2023</td> <th>  AIC                </th>  <td>68098.383</td>\n",
              "</tr>\n",
              "<tr>\n",
              "  <th>Time:</th>                <td>02:00:57</td>     <th>  BIC                </th>  <td>68125.312</td>\n",
              "</tr>\n",
              "<tr>\n",
              "  <th>Sample:</th>                  <td>0</td>        <th>  HQIC               </th>  <td>68107.719</td>\n",
              "</tr>\n",
              "<tr>\n",
              "  <th></th>                      <td> - 6201</td>     <th>                     </th>      <td> </td>    \n",
              "</tr>\n",
              "<tr>\n",
              "  <th>Covariance Type:</th>        <td>opg</td>       <th>                     </th>      <td> </td>    \n",
              "</tr>\n",
              "</table>\n",
              "<table class=\"simpletable\">\n",
              "<tr>\n",
              "     <td></td>       <th>coef</th>     <th>std err</th>      <th>z</th>      <th>P>|z|</th>  <th>[0.025</th>    <th>0.975]</th>  \n",
              "</tr>\n",
              "<tr>\n",
              "  <th>const</th>  <td> 5399.5071</td> <td>  456.121</td> <td>   11.838</td> <td> 0.000</td> <td> 4505.527</td> <td> 6293.487</td>\n",
              "</tr>\n",
              "<tr>\n",
              "  <th>ar.L1</th>  <td>    0.9987</td> <td>    0.001</td> <td> 1404.324</td> <td> 0.000</td> <td>    0.997</td> <td>    1.000</td>\n",
              "</tr>\n",
              "<tr>\n",
              "  <th>ma.L1</th>  <td>   -0.0086</td> <td>    0.009</td> <td>   -0.976</td> <td> 0.329</td> <td>   -0.026</td> <td>    0.009</td>\n",
              "</tr>\n",
              "<tr>\n",
              "  <th>sigma2</th> <td> 3434.9319</td> <td>   36.931</td> <td>   93.010</td> <td> 0.000</td> <td> 3362.549</td> <td> 3507.315</td>\n",
              "</tr>\n",
              "</table>\n",
              "<table class=\"simpletable\">\n",
              "<tr>\n",
              "  <th>Ljung-Box (L1) (Q):</th>     <td>0.00</td> <th>  Jarque-Bera (JB):  </th> <td>3541.31</td>\n",
              "</tr>\n",
              "<tr>\n",
              "  <th>Prob(Q):</th>                <td>1.00</td> <th>  Prob(JB):          </th>  <td>0.00</td>  \n",
              "</tr>\n",
              "<tr>\n",
              "  <th>Heteroskedasticity (H):</th> <td>1.07</td> <th>  Skew:              </th>  <td>-0.19</td> \n",
              "</tr>\n",
              "<tr>\n",
              "  <th>Prob(H) (two-sided):</th>    <td>0.13</td> <th>  Kurtosis:          </th>  <td>6.68</td>  \n",
              "</tr>\n",
              "</table><br/><br/>Warnings:<br/>[1] Covariance matrix calculated using the outer product of gradients (complex-step)."
            ],
            "text/latex": "\\begin{center}\n\\begin{tabular}{lclc}\n\\toprule\n\\textbf{Dep. Variable:}          &  market\\_value   & \\textbf{  No. Observations:  } &    6201     \\\\\n\\textbf{Model:}                  &  ARIMA(1, 0, 1)  & \\textbf{  Log Likelihood     } & -34045.191  \\\\\n\\textbf{Date:}                   & Sun, 15 Oct 2023 & \\textbf{  AIC                } & 68098.383   \\\\\n\\textbf{Time:}                   &     02:00:57     & \\textbf{  BIC                } & 68125.312   \\\\\n\\textbf{Sample:}                 &        0         & \\textbf{  HQIC               } & 68107.719   \\\\\n\\textbf{}                        &      - 6201      & \\textbf{                     } &             \\\\\n\\textbf{Covariance Type:}        &       opg        & \\textbf{                     } &             \\\\\n\\bottomrule\n\\end{tabular}\n\\begin{tabular}{lcccccc}\n                & \\textbf{coef} & \\textbf{std err} & \\textbf{z} & \\textbf{P$> |$z$|$} & \\textbf{[0.025} & \\textbf{0.975]}  \\\\\n\\midrule\n\\textbf{const}  &    5399.5071  &      456.121     &    11.838  &         0.000        &     4505.527    &     6293.487     \\\\\n\\textbf{ar.L1}  &       0.9987  &        0.001     &  1404.324  &         0.000        &        0.997    &        1.000     \\\\\n\\textbf{ma.L1}  &      -0.0086  &        0.009     &    -0.976  &         0.329        &       -0.026    &        0.009     \\\\\n\\textbf{sigma2} &    3434.9319  &       36.931     &    93.010  &         0.000        &     3362.549    &     3507.315     \\\\\n\\bottomrule\n\\end{tabular}\n\\begin{tabular}{lclc}\n\\textbf{Ljung-Box (L1) (Q):}     & 0.00 & \\textbf{  Jarque-Bera (JB):  } & 3541.31  \\\\\n\\textbf{Prob(Q):}                & 1.00 & \\textbf{  Prob(JB):          } &   0.00   \\\\\n\\textbf{Heteroskedasticity (H):} & 1.07 & \\textbf{  Skew:              } &  -0.19   \\\\\n\\textbf{Prob(H) (two-sided):}    & 0.13 & \\textbf{  Kurtosis:          } &   6.68   \\\\\n\\bottomrule\n\\end{tabular}\n%\\caption{SARIMAX Results}\n\\end{center}\n\nWarnings: \\newline\n [1] Covariance matrix calculated using the outer product of gradients (complex-step)."
          },
          "metadata": {},
          "execution_count": 38
        }
      ]
    },
    {
      "cell_type": "code",
      "source": [
        "df['res_ar_1_ma_1'] = results_ar_1_ma_1.resid"
      ],
      "metadata": {
        "id": "z3n71-QcDs7A"
      },
      "execution_count": null,
      "outputs": []
    },
    {
      "cell_type": "code",
      "source": [
        "sgt.plot_acf(df.res_ar_1_ma_1, zero = False, lags = 40)\n",
        "plt.title(\"ACF Of Residuals of Prices\",size=20)\n",
        "plt.show()"
      ],
      "metadata": {
        "colab": {
          "base_uri": "https://localhost:8080/",
          "height": 465
        },
        "id": "qzDMbYPmDteg",
        "outputId": "243523b1-2381-4d7a-e9a8-bd22753799f2"
      },
      "execution_count": null,
      "outputs": [
        {
          "output_type": "display_data",
          "data": {
            "text/plain": [
              "<Figure size 640x480 with 1 Axes>"
            ],
            "image/png": "[encoded data removed]"
          },
          "metadata": {}
        }
      ]
    },
    {
      "cell_type": "code",
      "source": [
        "model_ar_6_ma_6 = ARIMA(df.market_value, order=(6,0,6))\n",
        "results_ar_6_ma_6 = model_ar_6_ma_6.fit()\n",
        "results_ar_6_ma_6.summary()"
      ],
      "metadata": {
        "colab": {
          "base_uri": "https://localhost:8080/",
          "height": 665
        },
        "id": "ZlwUaVEoDuvJ",
        "outputId": "1659a492-220c-4dfb-f1f9-463c91bc027a"
      },
      "execution_count": null,
      "outputs": [
        {
          "output_type": "execute_result",
          "data": {
            "text/plain": [
              "<class 'statsmodels.iolib.summary.Summary'>\n",
              "\"\"\"\n",
              "                               SARIMAX Results                                \n",
              "==============================================================================\n",
              "Dep. Variable:           market_value   No. Observations:                 6201\n",
              "Model:                 ARIMA(6, 0, 6)   Log Likelihood              -34019.415\n",
              "Date:                Sun, 15 Oct 2023   AIC                          68066.830\n",
              "Time:                        02:01:43   BIC                          68161.084\n",
              "Sample:                             0   HQIC                         68099.507\n",
              "                               - 6201                                         \n",
              "Covariance Type:                  opg                                         \n",
              "==============================================================================\n",
              "                 coef    std err          z      P>|z|      [0.025      0.975]\n",
              "------------------------------------------------------------------------------\n",
              "const       5399.5071    678.234      7.961      0.000    4070.192    6728.822\n",
              "ar.L1          0.7186      0.159      4.534      0.000       0.408       1.029\n",
              "ar.L2          0.3673      0.202      1.815      0.070      -0.029       0.764\n",
              "ar.L3         -0.6025      0.174     -3.457      0.001      -0.944      -0.261\n",
              "ar.L4          0.4545      0.169      2.696      0.007       0.124       0.785\n",
              "ar.L5         -0.0933      0.198     -0.470      0.638      -0.482       0.295\n",
              "ar.L6          0.1539      0.125      1.227      0.220      -0.092       0.400\n",
              "ma.L1          0.2695      0.159      1.697      0.090      -0.042       0.581\n",
              "ma.L2         -0.1393      0.149     -0.936      0.350      -0.431       0.153\n",
              "ma.L3          0.4475      0.139      3.227      0.001       0.176       0.719\n",
              "ma.L4          0.0559      0.137      0.407      0.684      -0.213       0.325\n",
              "ma.L5          0.1012      0.129      0.782      0.434      -0.152       0.355\n",
              "ma.L6         -0.0665      0.013     -5.138      0.000      -0.092      -0.041\n",
              "sigma2      3410.4537     38.765     87.978      0.000    3334.476    3486.431\n",
              "===================================================================================\n",
              "Ljung-Box (L1) (Q):                   0.00   Jarque-Bera (JB):              3230.79\n",
              "Prob(Q):                              0.98   Prob(JB):                         0.00\n",
              "Heteroskedasticity (H):               1.09   Skew:                            -0.28\n",
              "Prob(H) (two-sided):                  0.05   Kurtosis:                         6.49\n",
              "===================================================================================\n",
              "\n",
              "Warnings:\n",
              "[1] Covariance matrix calculated using the outer product of gradients (complex-step).\n",
              "\"\"\""
            ],
            "text/html": [
              "<table class=\"simpletable\">\n",
              "<caption>SARIMAX Results</caption>\n",
              "<tr>\n",
              "  <th>Dep. Variable:</th>     <td>market_value</td>   <th>  No. Observations:  </th>    <td>6201</td>   \n",
              "</tr>\n",
              "<tr>\n",
              "  <th>Model:</th>            <td>ARIMA(6, 0, 6)</td>  <th>  Log Likelihood     </th> <td>-34019.415</td>\n",
              "</tr>\n",
              "<tr>\n",
              "  <th>Date:</th>            <td>Sun, 15 Oct 2023</td> <th>  AIC                </th>  <td>68066.830</td>\n",
              "</tr>\n",
              "<tr>\n",
              "  <th>Time:</th>                <td>02:01:43</td>     <th>  BIC                </th>  <td>68161.084</td>\n",
              "</tr>\n",
              "<tr>\n",
              "  <th>Sample:</th>                  <td>0</td>        <th>  HQIC               </th>  <td>68099.507</td>\n",
              "</tr>\n",
              "<tr>\n",
              "  <th></th>                      <td> - 6201</td>     <th>                     </th>      <td> </td>    \n",
              "</tr>\n",
              "<tr>\n",
              "  <th>Covariance Type:</th>        <td>opg</td>       <th>                     </th>      <td> </td>    \n",
              "</tr>\n",
              "</table>\n",
              "<table class=\"simpletable\">\n",
              "<tr>\n",
              "     <td></td>       <th>coef</th>     <th>std err</th>      <th>z</th>      <th>P>|z|</th>  <th>[0.025</th>    <th>0.975]</th>  \n",
              "</tr>\n",
              "<tr>\n",
              "  <th>const</th>  <td> 5399.5071</td> <td>  678.234</td> <td>    7.961</td> <td> 0.000</td> <td> 4070.192</td> <td> 6728.822</td>\n",
              "</tr>\n",
              "<tr>\n",
              "  <th>ar.L1</th>  <td>    0.7186</td> <td>    0.159</td> <td>    4.534</td> <td> 0.000</td> <td>    0.408</td> <td>    1.029</td>\n",
              "</tr>\n",
              "<tr>\n",
              "  <th>ar.L2</th>  <td>    0.3673</td> <td>    0.202</td> <td>    1.815</td> <td> 0.070</td> <td>   -0.029</td> <td>    0.764</td>\n",
              "</tr>\n",
              "<tr>\n",
              "  <th>ar.L3</th>  <td>   -0.6025</td> <td>    0.174</td> <td>   -3.457</td> <td> 0.001</td> <td>   -0.944</td> <td>   -0.261</td>\n",
              "</tr>\n",
              "<tr>\n",
              "  <th>ar.L4</th>  <td>    0.4545</td> <td>    0.169</td> <td>    2.696</td> <td> 0.007</td> <td>    0.124</td> <td>    0.785</td>\n",
              "</tr>\n",
              "<tr>\n",
              "  <th>ar.L5</th>  <td>   -0.0933</td> <td>    0.198</td> <td>   -0.470</td> <td> 0.638</td> <td>   -0.482</td> <td>    0.295</td>\n",
              "</tr>\n",
              "<tr>\n",
              "  <th>ar.L6</th>  <td>    0.1539</td> <td>    0.125</td> <td>    1.227</td> <td> 0.220</td> <td>   -0.092</td> <td>    0.400</td>\n",
              "</tr>\n",
              "<tr>\n",
              "  <th>ma.L1</th>  <td>    0.2695</td> <td>    0.159</td> <td>    1.697</td> <td> 0.090</td> <td>   -0.042</td> <td>    0.581</td>\n",
              "</tr>\n",
              "<tr>\n",
              "  <th>ma.L2</th>  <td>   -0.1393</td> <td>    0.149</td> <td>   -0.936</td> <td> 0.350</td> <td>   -0.431</td> <td>    0.153</td>\n",
              "</tr>\n",
              "<tr>\n",
              "  <th>ma.L3</th>  <td>    0.4475</td> <td>    0.139</td> <td>    3.227</td> <td> 0.001</td> <td>    0.176</td> <td>    0.719</td>\n",
              "</tr>\n",
              "<tr>\n",
              "  <th>ma.L4</th>  <td>    0.0559</td> <td>    0.137</td> <td>    0.407</td> <td> 0.684</td> <td>   -0.213</td> <td>    0.325</td>\n",
              "</tr>\n",
              "<tr>\n",
              "  <th>ma.L5</th>  <td>    0.1012</td> <td>    0.129</td> <td>    0.782</td> <td> 0.434</td> <td>   -0.152</td> <td>    0.355</td>\n",
              "</tr>\n",
              "<tr>\n",
              "  <th>ma.L6</th>  <td>   -0.0665</td> <td>    0.013</td> <td>   -5.138</td> <td> 0.000</td> <td>   -0.092</td> <td>   -0.041</td>\n",
              "</tr>\n",
              "<tr>\n",
              "  <th>sigma2</th> <td> 3410.4537</td> <td>   38.765</td> <td>   87.978</td> <td> 0.000</td> <td> 3334.476</td> <td> 3486.431</td>\n",
              "</tr>\n",
              "</table>\n",
              "<table class=\"simpletable\">\n",
              "<tr>\n",
              "  <th>Ljung-Box (L1) (Q):</th>     <td>0.00</td> <th>  Jarque-Bera (JB):  </th> <td>3230.79</td>\n",
              "</tr>\n",
              "<tr>\n",
              "  <th>Prob(Q):</th>                <td>0.98</td> <th>  Prob(JB):          </th>  <td>0.00</td>  \n",
              "</tr>\n",
              "<tr>\n",
              "  <th>Heteroskedasticity (H):</th> <td>1.09</td> <th>  Skew:              </th>  <td>-0.28</td> \n",
              "</tr>\n",
              "<tr>\n",
              "  <th>Prob(H) (two-sided):</th>    <td>0.05</td> <th>  Kurtosis:          </th>  <td>6.49</td>  \n",
              "</tr>\n",
              "</table><br/><br/>Warnings:<br/>[1] Covariance matrix calculated using the outer product of gradients (complex-step)."
            ],
            "text/latex": "\\begin{center}\n\\begin{tabular}{lclc}\n\\toprule\n\\textbf{Dep. Variable:}          &  market\\_value   & \\textbf{  No. Observations:  } &    6201     \\\\\n\\textbf{Model:}                  &  ARIMA(6, 0, 6)  & \\textbf{  Log Likelihood     } & -34019.415  \\\\\n\\textbf{Date:}                   & Sun, 15 Oct 2023 & \\textbf{  AIC                } & 68066.830   \\\\\n\\textbf{Time:}                   &     02:01:43     & \\textbf{  BIC                } & 68161.084   \\\\\n\\textbf{Sample:}                 &        0         & \\textbf{  HQIC               } & 68099.507   \\\\\n\\textbf{}                        &      - 6201      & \\textbf{                     } &             \\\\\n\\textbf{Covariance Type:}        &       opg        & \\textbf{                     } &             \\\\\n\\bottomrule\n\\end{tabular}\n\\begin{tabular}{lcccccc}\n                & \\textbf{coef} & \\textbf{std err} & \\textbf{z} & \\textbf{P$> |$z$|$} & \\textbf{[0.025} & \\textbf{0.975]}  \\\\\n\\midrule\n\\textbf{const}  &    5399.5071  &      678.234     &     7.961  &         0.000        &     4070.192    &     6728.822     \\\\\n\\textbf{ar.L1}  &       0.7186  &        0.159     &     4.534  &         0.000        &        0.408    &        1.029     \\\\\n\\textbf{ar.L2}  &       0.3673  &        0.202     &     1.815  &         0.070        &       -0.029    &        0.764     \\\\\n\\textbf{ar.L3}  &      -0.6025  &        0.174     &    -3.457  &         0.001        &       -0.944    &       -0.261     \\\\\n\\textbf{ar.L4}  &       0.4545  &        0.169     &     2.696  &         0.007        &        0.124    &        0.785     \\\\\n\\textbf{ar.L5}  &      -0.0933  &        0.198     &    -0.470  &         0.638        &       -0.482    &        0.295     \\\\\n\\textbf{ar.L6}  &       0.1539  &        0.125     &     1.227  &         0.220        &       -0.092    &        0.400     \\\\\n\\textbf{ma.L1}  &       0.2695  &        0.159     &     1.697  &         0.090        &       -0.042    &        0.581     \\\\\n\\textbf{ma.L2}  &      -0.1393  &        0.149     &    -0.936  &         0.350        &       -0.431    &        0.153     \\\\\n\\textbf{ma.L3}  &       0.4475  &        0.139     &     3.227  &         0.001        &        0.176    &        0.719     \\\\\n\\textbf{ma.L4}  &       0.0559  &        0.137     &     0.407  &         0.684        &       -0.213    &        0.325     \\\\\n\\textbf{ma.L5}  &       0.1012  &        0.129     &     0.782  &         0.434        &       -0.152    &        0.355     \\\\\n\\textbf{ma.L6}  &      -0.0665  &        0.013     &    -5.138  &         0.000        &       -0.092    &       -0.041     \\\\\n\\textbf{sigma2} &    3410.4537  &       38.765     &    87.978  &         0.000        &     3334.476    &     3486.431     \\\\\n\\bottomrule\n\\end{tabular}\n\\begin{tabular}{lclc}\n\\textbf{Ljung-Box (L1) (Q):}     & 0.00 & \\textbf{  Jarque-Bera (JB):  } & 3230.79  \\\\\n\\textbf{Prob(Q):}                & 0.98 & \\textbf{  Prob(JB):          } &   0.00   \\\\\n\\textbf{Heteroskedasticity (H):} & 1.09 & \\textbf{  Skew:              } &  -0.28   \\\\\n\\textbf{Prob(H) (two-sided):}    & 0.05 & \\textbf{  Kurtosis:          } &   6.49   \\\\\n\\bottomrule\n\\end{tabular}\n%\\caption{SARIMAX Results}\n\\end{center}\n\nWarnings: \\newline\n [1] Covariance matrix calculated using the outer product of gradients (complex-step)."
          },
          "metadata": {},
          "execution_count": 41
        }
      ]
    },
    {
      "cell_type": "code",
      "source": [
        "model_ar_5_ma_6 = ARIMA(df.market_value, order=(5,0,6))\n",
        "results_ar_5_ma_6 = model_ar_5_ma_6.fit()\n",
        "results_ar_5_ma_6.summary()"
      ],
      "metadata": {
        "colab": {
          "base_uri": "https://localhost:8080/",
          "height": 644
        },
        "id": "JE8GZUn5DxSh",
        "outputId": "ff8721cf-d983-4055-f0e3-ea6ee6d2f344"
      },
      "execution_count": null,
      "outputs": [
        {
          "output_type": "execute_result",
          "data": {
            "text/plain": [
              "<class 'statsmodels.iolib.summary.Summary'>\n",
              "\"\"\"\n",
              "                               SARIMAX Results                                \n",
              "==============================================================================\n",
              "Dep. Variable:           market_value   No. Observations:                 6201\n",
              "Model:                 ARIMA(5, 0, 6)   Log Likelihood              -34020.781\n",
              "Date:                Sun, 15 Oct 2023   AIC                          68067.563\n",
              "Time:                        02:02:31   BIC                          68155.085\n",
              "Sample:                             0   HQIC                         68097.906\n",
              "                               - 6201                                         \n",
              "Covariance Type:                  opg                                         \n",
              "==============================================================================\n",
              "                 coef    std err          z      P>|z|      [0.025      0.975]\n",
              "------------------------------------------------------------------------------\n",
              "const       5399.5071    576.631      9.364      0.000    4269.331    6529.683\n",
              "ar.L1          0.7054      0.195      3.626      0.000       0.324       1.087\n",
              "ar.L2          0.3995      0.303      1.319      0.187      -0.194       0.993\n",
              "ar.L3         -0.6883      0.251     -2.740      0.006      -1.181      -0.196\n",
              "ar.L4          0.4041      0.194      2.079      0.038       0.023       0.785\n",
              "ar.L5          0.1778      0.124      1.429      0.153      -0.066       0.422\n",
              "ma.L1          0.2834      0.194      1.459      0.145      -0.097       0.664\n",
              "ma.L2         -0.1571      0.170     -0.925      0.355      -0.490       0.176\n",
              "ma.L3          0.5142      0.148      3.477      0.001       0.224       0.804\n",
              "ma.L4          0.1714      0.128      1.343      0.179      -0.079       0.421\n",
              "ma.L5         -0.0548      0.012     -4.720      0.000      -0.078      -0.032\n",
              "ma.L6         -0.0741      0.014     -5.315      0.000      -0.101      -0.047\n",
              "sigma2      3412.2401     38.708     88.153      0.000    3336.374    3488.106\n",
              "===================================================================================\n",
              "Ljung-Box (L1) (Q):                   0.01   Jarque-Bera (JB):              3271.03\n",
              "Prob(Q):                              0.91   Prob(JB):                         0.00\n",
              "Heteroskedasticity (H):               1.09   Skew:                            -0.28\n",
              "Prob(H) (two-sided):                  0.06   Kurtosis:                         6.51\n",
              "===================================================================================\n",
              "\n",
              "Warnings:\n",
              "[1] Covariance matrix calculated using the outer product of gradients (complex-step).\n",
              "\"\"\""
            ],
            "text/html": [
              "<table class=\"simpletable\">\n",
              "<caption>SARIMAX Results</caption>\n",
              "<tr>\n",
              "  <th>Dep. Variable:</th>     <td>market_value</td>   <th>  No. Observations:  </th>    <td>6201</td>   \n",
              "</tr>\n",
              "<tr>\n",
              "  <th>Model:</th>            <td>ARIMA(5, 0, 6)</td>  <th>  Log Likelihood     </th> <td>-34020.781</td>\n",
              "</tr>\n",
              "<tr>\n",
              "  <th>Date:</th>            <td>Sun, 15 Oct 2023</td> <th>  AIC                </th>  <td>68067.563</td>\n",
              "</tr>\n",
              "<tr>\n",
              "  <th>Time:</th>                <td>02:02:31</td>     <th>  BIC                </th>  <td>68155.085</td>\n",
              "</tr>\n",
              "<tr>\n",
              "  <th>Sample:</th>                  <td>0</td>        <th>  HQIC               </th>  <td>68097.906</td>\n",
              "</tr>\n",
              "<tr>\n",
              "  <th></th>                      <td> - 6201</td>     <th>                     </th>      <td> </td>    \n",
              "</tr>\n",
              "<tr>\n",
              "  <th>Covariance Type:</th>        <td>opg</td>       <th>                     </th>      <td> </td>    \n",
              "</tr>\n",
              "</table>\n",
              "<table class=\"simpletable\">\n",
              "<tr>\n",
              "     <td></td>       <th>coef</th>     <th>std err</th>      <th>z</th>      <th>P>|z|</th>  <th>[0.025</th>    <th>0.975]</th>  \n",
              "</tr>\n",
              "<tr>\n",
              "  <th>const</th>  <td> 5399.5071</td> <td>  576.631</td> <td>    9.364</td> <td> 0.000</td> <td> 4269.331</td> <td> 6529.683</td>\n",
              "</tr>\n",
              "<tr>\n",
              "  <th>ar.L1</th>  <td>    0.7054</td> <td>    0.195</td> <td>    3.626</td> <td> 0.000</td> <td>    0.324</td> <td>    1.087</td>\n",
              "</tr>\n",
              "<tr>\n",
              "  <th>ar.L2</th>  <td>    0.3995</td> <td>    0.303</td> <td>    1.319</td> <td> 0.187</td> <td>   -0.194</td> <td>    0.993</td>\n",
              "</tr>\n",
              "<tr>\n",
              "  <th>ar.L3</th>  <td>   -0.6883</td> <td>    0.251</td> <td>   -2.740</td> <td> 0.006</td> <td>   -1.181</td> <td>   -0.196</td>\n",
              "</tr>\n",
              "<tr>\n",
              "  <th>ar.L4</th>  <td>    0.4041</td> <td>    0.194</td> <td>    2.079</td> <td> 0.038</td> <td>    0.023</td> <td>    0.785</td>\n",
              "</tr>\n",
              "<tr>\n",
              "  <th>ar.L5</th>  <td>    0.1778</td> <td>    0.124</td> <td>    1.429</td> <td> 0.153</td> <td>   -0.066</td> <td>    0.422</td>\n",
              "</tr>\n",
              "<tr>\n",
              "  <th>ma.L1</th>  <td>    0.2834</td> <td>    0.194</td> <td>    1.459</td> <td> 0.145</td> <td>   -0.097</td> <td>    0.664</td>\n",
              "</tr>\n",
              "<tr>\n",
              "  <th>ma.L2</th>  <td>   -0.1571</td> <td>    0.170</td> <td>   -0.925</td> <td> 0.355</td> <td>   -0.490</td> <td>    0.176</td>\n",
              "</tr>\n",
              "<tr>\n",
              "  <th>ma.L3</th>  <td>    0.5142</td> <td>    0.148</td> <td>    3.477</td> <td> 0.001</td> <td>    0.224</td> <td>    0.804</td>\n",
              "</tr>\n",
              "<tr>\n",
              "  <th>ma.L4</th>  <td>    0.1714</td> <td>    0.128</td> <td>    1.343</td> <td> 0.179</td> <td>   -0.079</td> <td>    0.421</td>\n",
              "</tr>\n",
              "<tr>\n",
              "  <th>ma.L5</th>  <td>   -0.0548</td> <td>    0.012</td> <td>   -4.720</td> <td> 0.000</td> <td>   -0.078</td> <td>   -0.032</td>\n",
              "</tr>\n",
              "<tr>\n",
              "  <th>ma.L6</th>  <td>   -0.0741</td> <td>    0.014</td> <td>   -5.315</td> <td> 0.000</td> <td>   -0.101</td> <td>   -0.047</td>\n",
              "</tr>\n",
              "<tr>\n",
              "  <th>sigma2</th> <td> 3412.2401</td> <td>   38.708</td> <td>   88.153</td> <td> 0.000</td> <td> 3336.374</td> <td> 3488.106</td>\n",
              "</tr>\n",
              "</table>\n",
              "<table class=\"simpletable\">\n",
              "<tr>\n",
              "  <th>Ljung-Box (L1) (Q):</th>     <td>0.01</td> <th>  Jarque-Bera (JB):  </th> <td>3271.03</td>\n",
              "</tr>\n",
              "<tr>\n",
              "  <th>Prob(Q):</th>                <td>0.91</td> <th>  Prob(JB):          </th>  <td>0.00</td>  \n",
              "</tr>\n",
              "<tr>\n",
              "  <th>Heteroskedasticity (H):</th> <td>1.09</td> <th>  Skew:              </th>  <td>-0.28</td> \n",
              "</tr>\n",
              "<tr>\n",
              "  <th>Prob(H) (two-sided):</th>    <td>0.06</td> <th>  Kurtosis:          </th>  <td>6.51</td>  \n",
              "</tr>\n",
              "</table><br/><br/>Warnings:<br/>[1] Covariance matrix calculated using the outer product of gradients (complex-step)."
            ],
            "text/latex": "\\begin{center}\n\\begin{tabular}{lclc}\n\\toprule\n\\textbf{Dep. Variable:}          &  market\\_value   & \\textbf{  No. Observations:  } &    6201     \\\\\n\\textbf{Model:}                  &  ARIMA(5, 0, 6)  & \\textbf{  Log Likelihood     } & -34020.781  \\\\\n\\textbf{Date:}                   & Sun, 15 Oct 2023 & \\textbf{  AIC                } & 68067.563   \\\\\n\\textbf{Time:}                   &     02:02:31     & \\textbf{  BIC                } & 68155.085   \\\\\n\\textbf{Sample:}                 &        0         & \\textbf{  HQIC               } & 68097.906   \\\\\n\\textbf{}                        &      - 6201      & \\textbf{                     } &             \\\\\n\\textbf{Covariance Type:}        &       opg        & \\textbf{                     } &             \\\\\n\\bottomrule\n\\end{tabular}\n\\begin{tabular}{lcccccc}\n                & \\textbf{coef} & \\textbf{std err} & \\textbf{z} & \\textbf{P$> |$z$|$} & \\textbf{[0.025} & \\textbf{0.975]}  \\\\\n\\midrule\n\\textbf{const}  &    5399.5071  &      576.631     &     9.364  &         0.000        &     4269.331    &     6529.683     \\\\\n\\textbf{ar.L1}  &       0.7054  &        0.195     &     3.626  &         0.000        &        0.324    &        1.087     \\\\\n\\textbf{ar.L2}  &       0.3995  &        0.303     &     1.319  &         0.187        &       -0.194    &        0.993     \\\\\n\\textbf{ar.L3}  &      -0.6883  &        0.251     &    -2.740  &         0.006        &       -1.181    &       -0.196     \\\\\n\\textbf{ar.L4}  &       0.4041  &        0.194     &     2.079  &         0.038        &        0.023    &        0.785     \\\\\n\\textbf{ar.L5}  &       0.1778  &        0.124     &     1.429  &         0.153        &       -0.066    &        0.422     \\\\\n\\textbf{ma.L1}  &       0.2834  &        0.194     &     1.459  &         0.145        &       -0.097    &        0.664     \\\\\n\\textbf{ma.L2}  &      -0.1571  &        0.170     &    -0.925  &         0.355        &       -0.490    &        0.176     \\\\\n\\textbf{ma.L3}  &       0.5142  &        0.148     &     3.477  &         0.001        &        0.224    &        0.804     \\\\\n\\textbf{ma.L4}  &       0.1714  &        0.128     &     1.343  &         0.179        &       -0.079    &        0.421     \\\\\n\\textbf{ma.L5}  &      -0.0548  &        0.012     &    -4.720  &         0.000        &       -0.078    &       -0.032     \\\\\n\\textbf{ma.L6}  &      -0.0741  &        0.014     &    -5.315  &         0.000        &       -0.101    &       -0.047     \\\\\n\\textbf{sigma2} &    3412.2401  &       38.708     &    88.153  &         0.000        &     3336.374    &     3488.106     \\\\\n\\bottomrule\n\\end{tabular}\n\\begin{tabular}{lclc}\n\\textbf{Ljung-Box (L1) (Q):}     & 0.01 & \\textbf{  Jarque-Bera (JB):  } & 3271.03  \\\\\n\\textbf{Prob(Q):}                & 0.91 & \\textbf{  Prob(JB):          } &   0.00   \\\\\n\\textbf{Heteroskedasticity (H):} & 1.09 & \\textbf{  Skew:              } &  -0.28   \\\\\n\\textbf{Prob(H) (two-sided):}    & 0.06 & \\textbf{  Kurtosis:          } &   6.51   \\\\\n\\bottomrule\n\\end{tabular}\n%\\caption{SARIMAX Results}\n\\end{center}\n\nWarnings: \\newline\n [1] Covariance matrix calculated using the outer product of gradients (complex-step)."
          },
          "metadata": {},
          "execution_count": 43
        }
      ]
    },
    {
      "cell_type": "code",
      "source": [
        "model_ar_6_ma_1 = ARIMA(df.market_value, order=(6,0,1))\n",
        "results_ar_6_ma_1 = model_ar_6_ma_1.fit()\n",
        "results_ar_6_ma_1.summary()"
      ],
      "metadata": {
        "colab": {
          "base_uri": "https://localhost:8080/",
          "height": 558
        },
        "id": "kLm_apRcD0IC",
        "outputId": "103ce149-9e29-4a00-d4c9-3b007f9de828"
      },
      "execution_count": null,
      "outputs": [
        {
          "output_type": "execute_result",
          "data": {
            "text/plain": [
              "<class 'statsmodels.iolib.summary.Summary'>\n",
              "\"\"\"\n",
              "                               SARIMAX Results                                \n",
              "==============================================================================\n",
              "Dep. Variable:           market_value   No. Observations:                 6201\n",
              "Model:                 ARIMA(6, 0, 1)   Log Likelihood              -34022.567\n",
              "Date:                Sun, 15 Oct 2023   AIC                          68063.135\n",
              "Time:                        02:02:59   BIC                          68123.727\n",
              "Sample:                             0   HQIC                         68084.142\n",
              "                               - 6201                                         \n",
              "Covariance Type:                  opg                                         \n",
              "==============================================================================\n",
              "                 coef    std err          z      P>|z|      [0.025      0.975]\n",
              "------------------------------------------------------------------------------\n",
              "const       5399.5105    697.886      7.737      0.000    4031.678    6767.343\n",
              "ar.L1          1.3559      0.159      8.506      0.000       1.044       1.668\n",
              "ar.L2         -0.4020      0.157     -2.558      0.011      -0.710      -0.094\n",
              "ar.L3          0.0074      0.015      0.485      0.627      -0.023       0.037\n",
              "ar.L4          0.0660      0.014      4.606      0.000       0.038       0.094\n",
              "ar.L5         -0.0740      0.016     -4.638      0.000      -0.105      -0.043\n",
              "ar.L6          0.0461      0.008      5.478      0.000       0.030       0.063\n",
              "ma.L1         -0.3680      0.160     -2.303      0.021      -0.681      -0.055\n",
              "sigma2      3408.5980     37.624     90.597      0.000    3334.857    3482.339\n",
              "===================================================================================\n",
              "Ljung-Box (L1) (Q):                   0.00   Jarque-Bera (JB):              3377.51\n",
              "Prob(Q):                              0.96   Prob(JB):                         0.00\n",
              "Heteroskedasticity (H):               1.09   Skew:                            -0.29\n",
              "Prob(H) (two-sided):                  0.06   Kurtosis:                         6.57\n",
              "===================================================================================\n",
              "\n",
              "Warnings:\n",
              "[1] Covariance matrix calculated using the outer product of gradients (complex-step).\n",
              "\"\"\""
            ],
            "text/html": [
              "<table class=\"simpletable\">\n",
              "<caption>SARIMAX Results</caption>\n",
              "<tr>\n",
              "  <th>Dep. Variable:</th>     <td>market_value</td>   <th>  No. Observations:  </th>    <td>6201</td>   \n",
              "</tr>\n",
              "<tr>\n",
              "  <th>Model:</th>            <td>ARIMA(6, 0, 1)</td>  <th>  Log Likelihood     </th> <td>-34022.567</td>\n",
              "</tr>\n",
              "<tr>\n",
              "  <th>Date:</th>            <td>Sun, 15 Oct 2023</td> <th>  AIC                </th>  <td>68063.135</td>\n",
              "</tr>\n",
              "<tr>\n",
              "  <th>Time:</th>                <td>02:02:59</td>     <th>  BIC                </th>  <td>68123.727</td>\n",
              "</tr>\n",
              "<tr>\n",
              "  <th>Sample:</th>                  <td>0</td>        <th>  HQIC               </th>  <td>68084.142</td>\n",
              "</tr>\n",
              "<tr>\n",
              "  <th></th>                      <td> - 6201</td>     <th>                     </th>      <td> </td>    \n",
              "</tr>\n",
              "<tr>\n",
              "  <th>Covariance Type:</th>        <td>opg</td>       <th>                     </th>      <td> </td>    \n",
              "</tr>\n",
              "</table>\n",
              "<table class=\"simpletable\">\n",
              "<tr>\n",
              "     <td></td>       <th>coef</th>     <th>std err</th>      <th>z</th>      <th>P>|z|</th>  <th>[0.025</th>    <th>0.975]</th>  \n",
              "</tr>\n",
              "<tr>\n",
              "  <th>const</th>  <td> 5399.5105</td> <td>  697.886</td> <td>    7.737</td> <td> 0.000</td> <td> 4031.678</td> <td> 6767.343</td>\n",
              "</tr>\n",
              "<tr>\n",
              "  <th>ar.L1</th>  <td>    1.3559</td> <td>    0.159</td> <td>    8.506</td> <td> 0.000</td> <td>    1.044</td> <td>    1.668</td>\n",
              "</tr>\n",
              "<tr>\n",
              "  <th>ar.L2</th>  <td>   -0.4020</td> <td>    0.157</td> <td>   -2.558</td> <td> 0.011</td> <td>   -0.710</td> <td>   -0.094</td>\n",
              "</tr>\n",
              "<tr>\n",
              "  <th>ar.L3</th>  <td>    0.0074</td> <td>    0.015</td> <td>    0.485</td> <td> 0.627</td> <td>   -0.023</td> <td>    0.037</td>\n",
              "</tr>\n",
              "<tr>\n",
              "  <th>ar.L4</th>  <td>    0.0660</td> <td>    0.014</td> <td>    4.606</td> <td> 0.000</td> <td>    0.038</td> <td>    0.094</td>\n",
              "</tr>\n",
              "<tr>\n",
              "  <th>ar.L5</th>  <td>   -0.0740</td> <td>    0.016</td> <td>   -4.638</td> <td> 0.000</td> <td>   -0.105</td> <td>   -0.043</td>\n",
              "</tr>\n",
              "<tr>\n",
              "  <th>ar.L6</th>  <td>    0.0461</td> <td>    0.008</td> <td>    5.478</td> <td> 0.000</td> <td>    0.030</td> <td>    0.063</td>\n",
              "</tr>\n",
              "<tr>\n",
              "  <th>ma.L1</th>  <td>   -0.3680</td> <td>    0.160</td> <td>   -2.303</td> <td> 0.021</td> <td>   -0.681</td> <td>   -0.055</td>\n",
              "</tr>\n",
              "<tr>\n",
              "  <th>sigma2</th> <td> 3408.5980</td> <td>   37.624</td> <td>   90.597</td> <td> 0.000</td> <td> 3334.857</td> <td> 3482.339</td>\n",
              "</tr>\n",
              "</table>\n",
              "<table class=\"simpletable\">\n",
              "<tr>\n",
              "  <th>Ljung-Box (L1) (Q):</th>     <td>0.00</td> <th>  Jarque-Bera (JB):  </th> <td>3377.51</td>\n",
              "</tr>\n",
              "<tr>\n",
              "  <th>Prob(Q):</th>                <td>0.96</td> <th>  Prob(JB):          </th>  <td>0.00</td>  \n",
              "</tr>\n",
              "<tr>\n",
              "  <th>Heteroskedasticity (H):</th> <td>1.09</td> <th>  Skew:              </th>  <td>-0.29</td> \n",
              "</tr>\n",
              "<tr>\n",
              "  <th>Prob(H) (two-sided):</th>    <td>0.06</td> <th>  Kurtosis:          </th>  <td>6.57</td>  \n",
              "</tr>\n",
              "</table><br/><br/>Warnings:<br/>[1] Covariance matrix calculated using the outer product of gradients (complex-step)."
            ],
            "text/latex": "\\begin{center}\n\\begin{tabular}{lclc}\n\\toprule\n\\textbf{Dep. Variable:}          &  market\\_value   & \\textbf{  No. Observations:  } &    6201     \\\\\n\\textbf{Model:}                  &  ARIMA(6, 0, 1)  & \\textbf{  Log Likelihood     } & -34022.567  \\\\\n\\textbf{Date:}                   & Sun, 15 Oct 2023 & \\textbf{  AIC                } & 68063.135   \\\\\n\\textbf{Time:}                   &     02:02:59     & \\textbf{  BIC                } & 68123.727   \\\\\n\\textbf{Sample:}                 &        0         & \\textbf{  HQIC               } & 68084.142   \\\\\n\\textbf{}                        &      - 6201      & \\textbf{                     } &             \\\\\n\\textbf{Covariance Type:}        &       opg        & \\textbf{                     } &             \\\\\n\\bottomrule\n\\end{tabular}\n\\begin{tabular}{lcccccc}\n                & \\textbf{coef} & \\textbf{std err} & \\textbf{z} & \\textbf{P$> |$z$|$} & \\textbf{[0.025} & \\textbf{0.975]}  \\\\\n\\midrule\n\\textbf{const}  &    5399.5105  &      697.886     &     7.737  &         0.000        &     4031.678    &     6767.343     \\\\\n\\textbf{ar.L1}  &       1.3559  &        0.159     &     8.506  &         0.000        &        1.044    &        1.668     \\\\\n\\textbf{ar.L2}  &      -0.4020  &        0.157     &    -2.558  &         0.011        &       -0.710    &       -0.094     \\\\\n\\textbf{ar.L3}  &       0.0074  &        0.015     &     0.485  &         0.627        &       -0.023    &        0.037     \\\\\n\\textbf{ar.L4}  &       0.0660  &        0.014     &     4.606  &         0.000        &        0.038    &        0.094     \\\\\n\\textbf{ar.L5}  &      -0.0740  &        0.016     &    -4.638  &         0.000        &       -0.105    &       -0.043     \\\\\n\\textbf{ar.L6}  &       0.0461  &        0.008     &     5.478  &         0.000        &        0.030    &        0.063     \\\\\n\\textbf{ma.L1}  &      -0.3680  &        0.160     &    -2.303  &         0.021        &       -0.681    &       -0.055     \\\\\n\\textbf{sigma2} &    3408.5980  &       37.624     &    90.597  &         0.000        &     3334.857    &     3482.339     \\\\\n\\bottomrule\n\\end{tabular}\n\\begin{tabular}{lclc}\n\\textbf{Ljung-Box (L1) (Q):}     & 0.00 & \\textbf{  Jarque-Bera (JB):  } & 3377.51  \\\\\n\\textbf{Prob(Q):}                & 0.96 & \\textbf{  Prob(JB):          } &   0.00   \\\\\n\\textbf{Heteroskedasticity (H):} & 1.09 & \\textbf{  Skew:              } &  -0.29   \\\\\n\\textbf{Prob(H) (two-sided):}    & 0.06 & \\textbf{  Kurtosis:          } &   6.57   \\\\\n\\bottomrule\n\\end{tabular}\n%\\caption{SARIMAX Results}\n\\end{center}\n\nWarnings: \\newline\n [1] Covariance matrix calculated using the outer product of gradients (complex-step)."
          },
          "metadata": {},
          "execution_count": 44
        }
      ]
    },
    {
      "cell_type": "code",
      "source": [
        "print(\"ARMA(5,6):  \\t LL = \", results_ar_5_ma_6.llf, \"\\t AIC = \", results_ar_5_ma_6.aic)\n",
        "print(\"ARMA(6,1):  \\t LL = \", results_ar_6_ma_1.llf, \"\\t AIC = \", results_ar_6_ma_1.aic)\n"
      ],
      "metadata": {
        "colab": {
          "base_uri": "https://localhost:8080/"
        },
        "id": "CTZlaK7MD1_3",
        "outputId": "085709f8-e4d7-45b0-ff33-06f1ebef9941"
      },
      "execution_count": null,
      "outputs": [
        {
          "output_type": "stream",
          "name": "stdout",
          "text": [
            "ARMA(5,6):  \t LL =  -34020.78138361189 \t AIC =  68067.56276722378\n",
            "ARMA(6,1):  \t LL =  -34022.5674454055 \t AIC =  68063.134890811\n"
          ]
        }
      ]
    },
    {
      "cell_type": "code",
      "source": [
        "\n",
        "df['res_ar_5_ma_6'] = results_ar_5_ma_6.resid\n",
        "sgt.plot_acf(df.res_ar_5_ma_6, zero = False, lags = 40)\n",
        "plt.title(\"ACF Of Residuals of Prices\",size=20)\n",
        "plt.show()"
      ],
      "metadata": {
        "colab": {
          "base_uri": "https://localhost:8080/",
          "height": 465
        },
        "id": "OTeMfLI_D36f",
        "outputId": "b095a886-5e63-4359-96aa-82324d397c38"
      },
      "execution_count": null,
      "outputs": [
        {
          "output_type": "display_data",
          "data": {
            "text/plain": [
              "<Figure size 640x480 with 1 Axes>"
            ],
            "image/png": "[encoded data removed]"
          },
          "metadata": {}
        }
      ]
    },
    {
      "cell_type": "markdown",
      "source": [
        "ARMA for Returns vs ARMA for Prices"
      ],
      "metadata": {
        "id": "CI5dCdvMD6WT"
      }
    },
    {
      "cell_type": "code",
      "source": [
        "print(\"ARMA(5,6):  \\t LL = \", results_ar_5_ma_6.llf, \"\\t AIC = \", results_ar_5_ma_6.aic)\n",
        "print(\"ARMA(5,1):  \\t LL = \", results_ret_ar_5_ma_1.llf, \"\\t AIC = \", results_ret_ar_5_ma_1.aic)\n"
      ],
      "metadata": {
        "colab": {
          "base_uri": "https://localhost:8080/"
        },
        "id": "8AHvttvDD8Bv",
        "outputId": "1a5a3db5-6096-4268-e1ed-afeb3de4c85c"
      },
      "execution_count": null,
      "outputs": [
        {
          "output_type": "stream",
          "name": "stdout",
          "text": [
            "ARMA(5,6):  \t LL =  -34020.78138361189 \t AIC =  68067.56276722378\n",
            "ARMA(5,1):  \t LL =  -9475.486351959837 \t AIC =  18966.972703919673\n"
          ]
        }
      ]
    },
    {
      "cell_type": "code",
      "source": [],
      "metadata": {
        "id": "XI1LhCtcD9kD"
      },
      "execution_count": null,
      "outputs": []
    }
  ]
}